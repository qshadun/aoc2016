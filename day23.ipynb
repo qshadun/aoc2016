{
 "cells": [
  {
   "cell_type": "code",
   "execution_count": 10,
   "metadata": {},
   "outputs": [],
   "source": [
    "from utils import read_lines\n",
    "from collections import defaultdict\n",
    "\n",
    "def parse_input(input_file):\n",
    "    return [line.split(' ') for line in read_lines(input_file)]\n",
    "\n",
    "def get_value(registers, a):\n",
    "    try:\n",
    "        return int(a)\n",
    "    except ValueError:\n",
    "        return registers[a]\n",
    "    \n",
    "def execute(program, registers):\n",
    "    i = 0\n",
    "    while i < len(program):\n",
    "        instruction = program[i]\n",
    "        match instruction[0]:\n",
    "            case 'cpy':\n",
    "                a, b = instruction[1:]\n",
    "                try:\n",
    "                    int(b)\n",
    "                except Exception:\n",
    "                    registers[b] = get_value(registers, a)\n",
    "                i += 1\n",
    "            case 'inc':\n",
    "                registers[instruction[1]] += 1\n",
    "                i += 1\n",
    "            case 'dec':\n",
    "                registers[instruction[1]] -= 1\n",
    "                i += 1\n",
    "            case 'jnz':\n",
    "                a, b = instruction[1:]\n",
    "                if get_value(registers, a):\n",
    "                    i += get_value(registers, b)\n",
    "                else:\n",
    "                    i += 1\n",
    "            case 'tgl':\n",
    "                x = i + int(get_value(registers, instruction[1]))\n",
    "                print(registers)\n",
    "                if 0 <= x <len(program):\n",
    "                    if len(program[x]) == 2:\n",
    "                        if program[x][0] == 'inc':\n",
    "                            program[x][0] = 'dec'\n",
    "                        else:\n",
    "                            program[x][0] = 'inc'\n",
    "                    else:\n",
    "                        if program[x][0] == 'jnz':\n",
    "                            program[x][0] = 'cpy'\n",
    "                        else:\n",
    "                            program[x][0] = 'jnz'\n",
    "                print(program)\n",
    "                i += 1\n",
    "            case _:\n",
    "                raise ValueError(f'illegal instruction {instruction}')\n",
    "    return registers\n",
    "\n",
    "def part1(input_file):\n",
    "    program = parse_input(input_file)\n",
    "    registers = defaultdict(int)\n",
    "    registers['a'] = 7\n",
    "    return execute(program, registers)['a']\n",
    "\n",
    "def part2(input_file):\n",
    "    program = parse_input(input_file)\n",
    "    registers = defaultdict(int)\n",
    "    registers['a'] = 12\n",
    "    return execute(program, registers)['a']\n"
   ]
  },
  {
   "cell_type": "code",
   "execution_count": 6,
   "metadata": {},
   "outputs": [
    {
     "data": {
      "text/plain": [
       "11200"
      ]
     },
     "execution_count": 6,
     "metadata": {},
     "output_type": "execute_result"
    }
   ],
   "source": [
    "part1('inputs/day23.txt')"
   ]
  },
  {
   "cell_type": "code",
   "execution_count": 2,
   "metadata": {},
   "outputs": [
    {
     "name": "stdout",
     "output_type": "stream",
     "text": [
      "defaultdict(<class 'int'>, {'a': 132, 'b': 10, 'd': 0, 'c': 20})\n",
      "defaultdict(<class 'int'>, {'a': 1320, 'b': 9, 'd': 0, 'c': 18})\n",
      "defaultdict(<class 'int'>, {'a': 11880, 'b': 8, 'd': 0, 'c': 16})\n",
      "defaultdict(<class 'int'>, {'a': 95040, 'b': 7, 'd': 0, 'c': 14})\n",
      "defaultdict(<class 'int'>, {'a': 665280, 'b': 6, 'd': 0, 'c': 12})\n",
      "defaultdict(<class 'int'>, {'a': 3991680, 'b': 5, 'd': 0, 'c': 10})\n",
      "defaultdict(<class 'int'>, {'a': 19958400, 'b': 4, 'd': 0, 'c': 8})\n"
     ]
    },
    {
     "ename": "KeyboardInterrupt",
     "evalue": "",
     "output_type": "error",
     "traceback": [
      "\u001b[0;31m---------------------------------------------------------------------------\u001b[0m",
      "\u001b[0;31mKeyboardInterrupt\u001b[0m                         Traceback (most recent call last)",
      "Cell \u001b[0;32mIn[2], line 1\u001b[0m\n\u001b[0;32m----> 1\u001b[0m part2(\u001b[38;5;124m'\u001b[39m\u001b[38;5;124minputs/day23.txt\u001b[39m\u001b[38;5;124m'\u001b[39m)\n",
      "Cell \u001b[0;32mIn[1], line 69\u001b[0m, in \u001b[0;36mpart2\u001b[0;34m(input_file)\u001b[0m\n\u001b[1;32m     67\u001b[0m registers \u001b[38;5;241m=\u001b[39m defaultdict(\u001b[38;5;28mint\u001b[39m)\n\u001b[1;32m     68\u001b[0m registers[\u001b[38;5;124m'\u001b[39m\u001b[38;5;124ma\u001b[39m\u001b[38;5;124m'\u001b[39m] \u001b[38;5;241m=\u001b[39m \u001b[38;5;241m12\u001b[39m\n\u001b[0;32m---> 69\u001b[0m \u001b[38;5;28;01mreturn\u001b[39;00m execute(program, registers)[\u001b[38;5;124m'\u001b[39m\u001b[38;5;124ma\u001b[39m\u001b[38;5;124m'\u001b[39m]\n",
      "Cell \u001b[0;32mIn[1], line 33\u001b[0m, in \u001b[0;36mexecute\u001b[0;34m(program, registers)\u001b[0m\n\u001b[1;32m     15\u001b[0m \u001b[38;5;28;01mwhile\u001b[39;00m i \u001b[38;5;241m<\u001b[39m \u001b[38;5;28mlen\u001b[39m(program):\n\u001b[1;32m     16\u001b[0m     instruction \u001b[38;5;241m=\u001b[39m program[i]\n\u001b[1;32m     17\u001b[0m     \u001b[38;5;28;01mmatch\u001b[39;00m instruction[\u001b[38;5;241m0\u001b[39m]:\n\u001b[1;32m     18\u001b[0m         \u001b[38;5;28;01mcase\u001b[39;00m \u001b[38;5;124m'\u001b[39m\u001b[38;5;124mcpy\u001b[39m\u001b[38;5;124m'\u001b[39m:\n\u001b[1;32m     19\u001b[0m             a, b \u001b[38;5;241m=\u001b[39m instruction[\u001b[38;5;241m1\u001b[39m:]\n\u001b[1;32m     20\u001b[0m             \u001b[38;5;28;01mtry\u001b[39;00m:\n\u001b[1;32m     21\u001b[0m                 \u001b[38;5;28mint\u001b[39m(b)\n\u001b[1;32m     22\u001b[0m             \u001b[38;5;28;01mexcept\u001b[39;00m \u001b[38;5;167;01mException\u001b[39;00m:\n\u001b[1;32m     23\u001b[0m                 registers[b] \u001b[38;5;241m=\u001b[39m get_value(registers, a)\n\u001b[1;32m     24\u001b[0m             i \u001b[38;5;241m+\u001b[39m\u001b[38;5;241m=\u001b[39m \u001b[38;5;241m1\u001b[39m\n\u001b[1;32m     25\u001b[0m         \u001b[38;5;28;01mcase\u001b[39;00m \u001b[38;5;124m'\u001b[39m\u001b[38;5;124minc\u001b[39m\u001b[38;5;124m'\u001b[39m:\n\u001b[1;32m     26\u001b[0m             registers[instruction[\u001b[38;5;241m1\u001b[39m]] \u001b[38;5;241m+\u001b[39m\u001b[38;5;241m=\u001b[39m \u001b[38;5;241m1\u001b[39m\n\u001b[1;32m     27\u001b[0m             i \u001b[38;5;241m+\u001b[39m\u001b[38;5;241m=\u001b[39m \u001b[38;5;241m1\u001b[39m\n\u001b[1;32m     28\u001b[0m         \u001b[38;5;28;01mcase\u001b[39;00m \u001b[38;5;124m'\u001b[39m\u001b[38;5;124mdec\u001b[39m\u001b[38;5;124m'\u001b[39m:\n\u001b[1;32m     29\u001b[0m             registers[instruction[\u001b[38;5;241m1\u001b[39m]] \u001b[38;5;241m-\u001b[39m\u001b[38;5;241m=\u001b[39m \u001b[38;5;241m1\u001b[39m\n\u001b[1;32m     30\u001b[0m             i \u001b[38;5;241m+\u001b[39m\u001b[38;5;241m=\u001b[39m \u001b[38;5;241m1\u001b[39m\n\u001b[1;32m     31\u001b[0m         \u001b[38;5;28;01mcase\u001b[39;00m \u001b[38;5;124m'\u001b[39m\u001b[38;5;124mjnz\u001b[39m\u001b[38;5;124m'\u001b[39m:\n\u001b[1;32m     32\u001b[0m             a, b \u001b[38;5;241m=\u001b[39m instruction[\u001b[38;5;241m1\u001b[39m:]\n\u001b[0;32m---> 33\u001b[0m             \u001b[38;5;28;01mif\u001b[39;00m get_value(registers, a):\n\u001b[1;32m     34\u001b[0m                 i \u001b[38;5;241m+\u001b[39m\u001b[38;5;241m=\u001b[39m get_value(registers, b)\n\u001b[1;32m     35\u001b[0m             \u001b[38;5;28;01melse\u001b[39;00m:\n\u001b[1;32m     36\u001b[0m                 i \u001b[38;5;241m+\u001b[39m\u001b[38;5;241m=\u001b[39m \u001b[38;5;241m1\u001b[39m\n\u001b[1;32m     37\u001b[0m         \u001b[38;5;28;01mcase\u001b[39;00m \u001b[38;5;124m'\u001b[39m\u001b[38;5;124mtgl\u001b[39m\u001b[38;5;124m'\u001b[39m:\n\u001b[1;32m     38\u001b[0m             x \u001b[38;5;241m=\u001b[39m i \u001b[38;5;241m+\u001b[39m \u001b[38;5;28mint\u001b[39m(get_value(registers, instruction[\u001b[38;5;241m1\u001b[39m]))\n\u001b[1;32m     39\u001b[0m             \u001b[38;5;28mprint\u001b[39m(registers)\n\u001b[1;32m     40\u001b[0m             \u001b[38;5;28;01mif\u001b[39;00m \u001b[38;5;241m0\u001b[39m \u001b[38;5;241m<\u001b[39m\u001b[38;5;241m=\u001b[39m x \u001b[38;5;241m<\u001b[39m\u001b[38;5;28mlen\u001b[39m(program):\n\u001b[1;32m     41\u001b[0m                 \u001b[38;5;28;01mif\u001b[39;00m \u001b[38;5;28mlen\u001b[39m(program[x]) \u001b[38;5;241m==\u001b[39m \u001b[38;5;241m2\u001b[39m:\n\u001b[1;32m     42\u001b[0m                     \u001b[38;5;28;01mif\u001b[39;00m program[x][\u001b[38;5;241m0\u001b[39m] \u001b[38;5;241m==\u001b[39m \u001b[38;5;124m'\u001b[39m\u001b[38;5;124minc\u001b[39m\u001b[38;5;124m'\u001b[39m:\n\u001b[1;32m     43\u001b[0m                         program[x][\u001b[38;5;241m0\u001b[39m] \u001b[38;5;241m=\u001b[39m \u001b[38;5;124m'\u001b[39m\u001b[38;5;124mdec\u001b[39m\u001b[38;5;124m'\u001b[39m\n\u001b[1;32m     44\u001b[0m                     \u001b[38;5;28;01melse\u001b[39;00m:\n\u001b[1;32m     45\u001b[0m                         program[x][\u001b[38;5;241m0\u001b[39m] \u001b[38;5;241m=\u001b[39m \u001b[38;5;124m'\u001b[39m\u001b[38;5;124minc\u001b[39m\u001b[38;5;124m'\u001b[39m\n\u001b[1;32m     46\u001b[0m                 \u001b[38;5;28;01melse\u001b[39;00m:\n\u001b[1;32m     47\u001b[0m                     \u001b[38;5;28;01mif\u001b[39;00m program[x][\u001b[38;5;241m0\u001b[39m] \u001b[38;5;241m==\u001b[39m \u001b[38;5;124m'\u001b[39m\u001b[38;5;124mjnz\u001b[39m\u001b[38;5;124m'\u001b[39m:\n\u001b[1;32m     48\u001b[0m                         program[x][\u001b[38;5;241m0\u001b[39m] \u001b[38;5;241m=\u001b[39m \u001b[38;5;124m'\u001b[39m\u001b[38;5;124mcpy\u001b[39m\u001b[38;5;124m'\u001b[39m\n\u001b[1;32m     49\u001b[0m                     \u001b[38;5;28;01melse\u001b[39;00m:\n\u001b[1;32m     50\u001b[0m                         program[x][\u001b[38;5;241m0\u001b[39m] \u001b[38;5;241m=\u001b[39m \u001b[38;5;124m'\u001b[39m\u001b[38;5;124mjnz\u001b[39m\u001b[38;5;124m'\u001b[39m\n\u001b[1;32m     51\u001b[0m                 \u001b[38;5;28;01mif\u001b[39;00m x \u001b[38;5;241m==\u001b[39m \u001b[38;5;124m'\u001b[39m\u001b[38;5;124mi\u001b[39m\u001b[38;5;124m'\u001b[39m:\n\u001b[1;32m     52\u001b[0m                     \u001b[38;5;28mprint\u001b[39m(program)\n\u001b[1;32m     53\u001b[0m                     \u001b[38;5;28mprint\u001b[39m(registers)\n\u001b[1;32m     54\u001b[0m             i \u001b[38;5;241m+\u001b[39m\u001b[38;5;241m=\u001b[39m \u001b[38;5;241m1\u001b[39m\n\u001b[1;32m     55\u001b[0m         \u001b[38;5;28;01mcase\u001b[39;00m\u001b[38;5;250m \u001b[39m\u001b[38;5;28;01m_\u001b[39;00m:\n\u001b[1;32m     56\u001b[0m             \u001b[38;5;28;01mraise\u001b[39;00m \u001b[38;5;167;01mValueError\u001b[39;00m(\u001b[38;5;124mf\u001b[39m\u001b[38;5;124m'\u001b[39m\u001b[38;5;124millegal instruction \u001b[39m\u001b[38;5;132;01m{\u001b[39;00minstruction\u001b[38;5;132;01m}\u001b[39;00m\u001b[38;5;124m'\u001b[39m)\n\u001b[1;32m     57\u001b[0m \u001b[38;5;28;01mreturn\u001b[39;00m registers\n",
      "Cell \u001b[0;32mIn[1], line 9\u001b[0m, in \u001b[0;36mget_value\u001b[0;34m(registers, a)\u001b[0m\n\u001b[1;32m      7\u001b[0m \u001b[38;5;28;01mdef\u001b[39;00m \u001b[38;5;21mget_value\u001b[39m(registers, a):\n\u001b[1;32m      8\u001b[0m     \u001b[38;5;28;01mtry\u001b[39;00m:\n\u001b[0;32m----> 9\u001b[0m         \u001b[38;5;28;01mreturn\u001b[39;00m \u001b[38;5;28mint\u001b[39m(a)\n\u001b[1;32m     10\u001b[0m     \u001b[38;5;28;01mexcept\u001b[39;00m \u001b[38;5;167;01mValueError\u001b[39;00m:\n\u001b[1;32m     11\u001b[0m         \u001b[38;5;28;01mreturn\u001b[39;00m registers[a]\n",
      "\u001b[0;31mKeyboardInterrupt\u001b[0m: "
     ]
    }
   ],
   "source": [
    "part2('inputs/day23.txt')"
   ]
  },
  {
   "cell_type": "code",
   "execution_count": 11,
   "metadata": {},
   "outputs": [
    {
     "name": "stdout",
     "output_type": "stream",
     "text": [
      "defaultdict(<class 'int'>, {'a': 132, 'b': 10, 'd': 0, 'c': 20})\n",
      "[['cpy', 'a', 'b'], ['dec', 'b'], ['cpy', 'a', 'd'], ['cpy', '0', 'a'], ['cpy', 'b', 'c'], ['inc', 'a'], ['dec', 'c'], ['jnz', 'c', '-2'], ['dec', 'd'], ['jnz', 'd', '-5'], ['dec', 'b'], ['cpy', 'b', 'c'], ['cpy', 'c', 'd'], ['dec', 'd'], ['inc', 'c'], ['jnz', 'd', '-2'], ['tgl', 'c'], ['cpy', '-16', 'c'], ['jnz', '1', 'c'], ['cpy', '80', 'c'], ['jnz', '77', 'd'], ['inc', 'a'], ['inc', 'd'], ['jnz', 'd', '-2'], ['inc', 'c'], ['jnz', 'c', '-5']]\n",
      "defaultdict(<class 'int'>, {'a': 1320, 'b': 9, 'd': 0, 'c': 18})\n",
      "[['cpy', 'a', 'b'], ['dec', 'b'], ['cpy', 'a', 'd'], ['cpy', '0', 'a'], ['cpy', 'b', 'c'], ['inc', 'a'], ['dec', 'c'], ['jnz', 'c', '-2'], ['dec', 'd'], ['jnz', 'd', '-5'], ['dec', 'b'], ['cpy', 'b', 'c'], ['cpy', 'c', 'd'], ['dec', 'd'], ['inc', 'c'], ['jnz', 'd', '-2'], ['tgl', 'c'], ['cpy', '-16', 'c'], ['jnz', '1', 'c'], ['cpy', '80', 'c'], ['jnz', '77', 'd'], ['inc', 'a'], ['inc', 'd'], ['jnz', 'd', '-2'], ['inc', 'c'], ['jnz', 'c', '-5']]\n",
      "defaultdict(<class 'int'>, {'a': 11880, 'b': 8, 'd': 0, 'c': 16})\n",
      "[['cpy', 'a', 'b'], ['dec', 'b'], ['cpy', 'a', 'd'], ['cpy', '0', 'a'], ['cpy', 'b', 'c'], ['inc', 'a'], ['dec', 'c'], ['jnz', 'c', '-2'], ['dec', 'd'], ['jnz', 'd', '-5'], ['dec', 'b'], ['cpy', 'b', 'c'], ['cpy', 'c', 'd'], ['dec', 'd'], ['inc', 'c'], ['jnz', 'd', '-2'], ['tgl', 'c'], ['cpy', '-16', 'c'], ['jnz', '1', 'c'], ['cpy', '80', 'c'], ['jnz', '77', 'd'], ['inc', 'a'], ['inc', 'd'], ['jnz', 'd', '-2'], ['inc', 'c'], ['jnz', 'c', '-5']]\n",
      "defaultdict(<class 'int'>, {'a': 95040, 'b': 7, 'd': 0, 'c': 14})\n",
      "[['cpy', 'a', 'b'], ['dec', 'b'], ['cpy', 'a', 'd'], ['cpy', '0', 'a'], ['cpy', 'b', 'c'], ['inc', 'a'], ['dec', 'c'], ['jnz', 'c', '-2'], ['dec', 'd'], ['jnz', 'd', '-5'], ['dec', 'b'], ['cpy', 'b', 'c'], ['cpy', 'c', 'd'], ['dec', 'd'], ['inc', 'c'], ['jnz', 'd', '-2'], ['tgl', 'c'], ['cpy', '-16', 'c'], ['jnz', '1', 'c'], ['cpy', '80', 'c'], ['jnz', '77', 'd'], ['inc', 'a'], ['inc', 'd'], ['jnz', 'd', '-2'], ['inc', 'c'], ['jnz', 'c', '-5']]\n",
      "defaultdict(<class 'int'>, {'a': 665280, 'b': 6, 'd': 0, 'c': 12})\n",
      "[['cpy', 'a', 'b'], ['dec', 'b'], ['cpy', 'a', 'd'], ['cpy', '0', 'a'], ['cpy', 'b', 'c'], ['inc', 'a'], ['dec', 'c'], ['jnz', 'c', '-2'], ['dec', 'd'], ['jnz', 'd', '-5'], ['dec', 'b'], ['cpy', 'b', 'c'], ['cpy', 'c', 'd'], ['dec', 'd'], ['inc', 'c'], ['jnz', 'd', '-2'], ['tgl', 'c'], ['cpy', '-16', 'c'], ['jnz', '1', 'c'], ['cpy', '80', 'c'], ['jnz', '77', 'd'], ['inc', 'a'], ['inc', 'd'], ['jnz', 'd', '-2'], ['inc', 'c'], ['jnz', 'c', '-5']]\n",
      "defaultdict(<class 'int'>, {'a': 3991680, 'b': 5, 'd': 0, 'c': 10})\n",
      "[['cpy', 'a', 'b'], ['dec', 'b'], ['cpy', 'a', 'd'], ['cpy', '0', 'a'], ['cpy', 'b', 'c'], ['inc', 'a'], ['dec', 'c'], ['jnz', 'c', '-2'], ['dec', 'd'], ['jnz', 'd', '-5'], ['dec', 'b'], ['cpy', 'b', 'c'], ['cpy', 'c', 'd'], ['dec', 'd'], ['inc', 'c'], ['jnz', 'd', '-2'], ['tgl', 'c'], ['cpy', '-16', 'c'], ['jnz', '1', 'c'], ['cpy', '80', 'c'], ['jnz', '77', 'd'], ['inc', 'a'], ['inc', 'd'], ['jnz', 'd', '-2'], ['inc', 'c'], ['jnz', 'c', '-5']]\n",
      "defaultdict(<class 'int'>, {'a': 19958400, 'b': 4, 'd': 0, 'c': 8})\n",
      "[['cpy', 'a', 'b'], ['dec', 'b'], ['cpy', 'a', 'd'], ['cpy', '0', 'a'], ['cpy', 'b', 'c'], ['inc', 'a'], ['dec', 'c'], ['jnz', 'c', '-2'], ['dec', 'd'], ['jnz', 'd', '-5'], ['dec', 'b'], ['cpy', 'b', 'c'], ['cpy', 'c', 'd'], ['dec', 'd'], ['inc', 'c'], ['jnz', 'd', '-2'], ['tgl', 'c'], ['cpy', '-16', 'c'], ['jnz', '1', 'c'], ['cpy', '80', 'c'], ['jnz', '77', 'd'], ['inc', 'a'], ['inc', 'd'], ['jnz', 'd', '-2'], ['dec', 'c'], ['jnz', 'c', '-5']]\n"
     ]
    },
    {
     "ename": "KeyboardInterrupt",
     "evalue": "",
     "output_type": "error",
     "traceback": [
      "\u001b[0;31m---------------------------------------------------------------------------\u001b[0m",
      "\u001b[0;31mKeyboardInterrupt\u001b[0m                         Traceback (most recent call last)",
      "Cell \u001b[0;32mIn[11], line 1\u001b[0m\n\u001b[0;32m----> 1\u001b[0m part2(\u001b[38;5;124m'\u001b[39m\u001b[38;5;124minputs/day23.txt\u001b[39m\u001b[38;5;124m'\u001b[39m)\n",
      "Cell \u001b[0;32mIn[10], line 67\u001b[0m, in \u001b[0;36mpart2\u001b[0;34m(input_file)\u001b[0m\n\u001b[1;32m     65\u001b[0m registers \u001b[38;5;241m=\u001b[39m defaultdict(\u001b[38;5;28mint\u001b[39m)\n\u001b[1;32m     66\u001b[0m registers[\u001b[38;5;124m'\u001b[39m\u001b[38;5;124ma\u001b[39m\u001b[38;5;124m'\u001b[39m] \u001b[38;5;241m=\u001b[39m \u001b[38;5;241m12\u001b[39m\n\u001b[0;32m---> 67\u001b[0m \u001b[38;5;28;01mreturn\u001b[39;00m execute(program, registers)[\u001b[38;5;124m'\u001b[39m\u001b[38;5;124ma\u001b[39m\u001b[38;5;124m'\u001b[39m]\n",
      "Cell \u001b[0;32mIn[10], line 15\u001b[0m, in \u001b[0;36mexecute\u001b[0;34m(program, registers)\u001b[0m\n\u001b[1;32m     13\u001b[0m \u001b[38;5;28;01mdef\u001b[39;00m \u001b[38;5;21mexecute\u001b[39m(program, registers):\n\u001b[1;32m     14\u001b[0m     i \u001b[38;5;241m=\u001b[39m \u001b[38;5;241m0\u001b[39m\n\u001b[0;32m---> 15\u001b[0m     \u001b[38;5;28;01mwhile\u001b[39;00m i \u001b[38;5;241m<\u001b[39m \u001b[38;5;28mlen\u001b[39m(program):\n\u001b[1;32m     16\u001b[0m         instruction \u001b[38;5;241m=\u001b[39m program[i]\n\u001b[1;32m     17\u001b[0m         \u001b[38;5;28;01mmatch\u001b[39;00m instruction[\u001b[38;5;241m0\u001b[39m]:\n\u001b[1;32m     18\u001b[0m             \u001b[38;5;28;01mcase\u001b[39;00m \u001b[38;5;124m'\u001b[39m\u001b[38;5;124mcpy\u001b[39m\u001b[38;5;124m'\u001b[39m:\n\u001b[1;32m     19\u001b[0m                 a, b \u001b[38;5;241m=\u001b[39m instruction[\u001b[38;5;241m1\u001b[39m:]\n\u001b[0;32m   (...)\u001b[0m\n\u001b[1;32m     53\u001b[0m             \u001b[38;5;28;01mcase\u001b[39;00m\u001b[38;5;250m \u001b[39m\u001b[38;5;28;01m_\u001b[39;00m:\n\u001b[1;32m     54\u001b[0m                 \u001b[38;5;28;01mraise\u001b[39;00m \u001b[38;5;167;01mValueError\u001b[39;00m(\u001b[38;5;124mf\u001b[39m\u001b[38;5;124m'\u001b[39m\u001b[38;5;124millegal instruction \u001b[39m\u001b[38;5;132;01m{\u001b[39;00minstruction\u001b[38;5;132;01m}\u001b[39;00m\u001b[38;5;124m'\u001b[39m)\n",
      "\u001b[0;31mKeyboardInterrupt\u001b[0m: "
     ]
    }
   ],
   "source": [
    "part2('inputs/day23.txt')"
   ]
  },
  {
   "cell_type": "code",
   "execution_count": 13,
   "metadata": {},
   "outputs": [
    {
     "data": {
      "text/plain": [
       "479007760"
      ]
     },
     "execution_count": 13,
     "metadata": {},
     "output_type": "execute_result"
    }
   ],
   "source": [
    "import numpy\n",
    "numpy.prod(range(1, 13)) + 77 *80"
   ]
  },
  {
   "cell_type": "code",
   "execution_count": null,
   "metadata": {},
   "outputs": [],
   "source": []
  }
 ],
 "metadata": {
  "kernelspec": {
   "display_name": "Test",
   "language": "python",
   "name": "python3"
  },
  "language_info": {
   "codemirror_mode": {
    "name": "ipython",
    "version": 3
   },
   "file_extension": ".py",
   "mimetype": "text/x-python",
   "name": "python",
   "nbconvert_exporter": "python",
   "pygments_lexer": "ipython3",
   "version": "3.12.2"
  }
 },
 "nbformat": 4,
 "nbformat_minor": 2
}
