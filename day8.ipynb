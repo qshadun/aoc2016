{
 "cells": [
  {
   "cell_type": "code",
   "execution_count": 8,
   "metadata": {},
   "outputs": [],
   "source": [
    "from utils import read_lines\n",
    "\n",
    "def parse_line(line):\n",
    "    \"\"\"\n",
    "    rect 1x1\n",
    "    rotate row y=0 by 5\n",
    "    rotate column x=0 by 1\n",
    "    \"\"\"\n",
    "    if line.startswith('rect'):\n",
    "        a, b = line.split(' ')[1].split('x')\n",
    "        return 'rect', int(a), int(b)\n",
    "    elif line.startswith('rotate row'):\n",
    "        a, _, b = line.split('=')[1].split(' ')\n",
    "        return 'row', int(a), int(b)\n",
    "    else:\n",
    "        a, _, b = line.split('=')[1].split(' ')\n",
    "        return 'col', int(a), int(b)\n",
    "\n",
    "def part1(input_file):\n",
    "    operations = [parse_line(line) for line in read_lines(input_file)]\n",
    "    m, n = 6, 50\n",
    "    screen = [['.'] * n for _ in range(m)]\n",
    "    for oper, a, b in operations:\n",
    "        match oper:\n",
    "            case 'rect':\n",
    "                for i in range(b):\n",
    "                    for j in range(a):\n",
    "                        screen[i][j] = '#'\n",
    "            case 'row':\n",
    "                screen[a] = screen[a][n-b:] + screen[a][:n-b]\n",
    "            case 'col':\n",
    "                col = [screen[i][a] for i in range(m)]\n",
    "                col = col[m-b:] + col[:m-b]\n",
    "                for i in range(m):\n",
    "                    screen[i][a] = col[i]\n",
    "    ans = 0\n",
    "    for i in range(m):\n",
    "        for j in range(n):\n",
    "            if screen[i][j] == '#':\n",
    "                ans += 1\n",
    "\n",
    "    for row in screen:\n",
    "        print(''.join(row))\n",
    "    return ans "
   ]
  },
  {
   "cell_type": "code",
   "execution_count": 9,
   "metadata": {},
   "outputs": [
    {
     "name": "stdout",
     "output_type": "stream",
     "text": [
      "####.####.#..#.####..###.####..##...##..###...##..\n",
      "...#.#....#..#.#....#....#....#..#.#..#.#..#.#..#.\n",
      "..#..###..####.###..#....###..#..#.#....#..#.#..#.\n",
      ".#...#....#..#.#.....##..#....#..#.#.##.###..#..#.\n",
      "#....#....#..#.#.......#.#....#..#.#..#.#....#..#.\n",
      "####.#....#..#.#....###..#.....##...###.#.....##..\n"
     ]
    },
    {
     "data": {
      "text/plain": [
       "119"
      ]
     },
     "execution_count": 9,
     "metadata": {},
     "output_type": "execute_result"
    }
   ],
   "source": [
    "part1('inputs/day8.txt')"
   ]
  },
  {
   "cell_type": "code",
   "execution_count": null,
   "metadata": {},
   "outputs": [],
   "source": [
    "ZFHFSFOGPO"
   ]
  },
  {
   "cell_type": "code",
   "execution_count": 5,
   "metadata": {},
   "outputs": [
    {
     "data": {
      "text/plain": [
       "[('rect', 1, 1), ('row', 0, 5), ('col', 0, 1)]"
      ]
     },
     "execution_count": 5,
     "metadata": {},
     "output_type": "execute_result"
    }
   ],
   "source": [
    "lines = [\n",
    "    'rect 1x1',\n",
    "    'rotate row y=0 by 5',\n",
    "    'rotate column x=0 by 1'\n",
    "]\n",
    "[parse_line(x) for x in lines]"
   ]
  },
  {
   "cell_type": "code",
   "execution_count": null,
   "metadata": {},
   "outputs": [],
   "source": []
  }
 ],
 "metadata": {
  "kernelspec": {
   "display_name": "Test",
   "language": "python",
   "name": "python3"
  },
  "language_info": {
   "codemirror_mode": {
    "name": "ipython",
    "version": 3
   },
   "file_extension": ".py",
   "mimetype": "text/x-python",
   "name": "python",
   "nbconvert_exporter": "python",
   "pygments_lexer": "ipython3",
   "version": "3.12.2"
  }
 },
 "nbformat": 4,
 "nbformat_minor": 2
}
