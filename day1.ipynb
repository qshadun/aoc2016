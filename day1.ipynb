{
 "cells": [
  {
   "cell_type": "code",
   "execution_count": 7,
   "metadata": {},
   "outputs": [],
   "source": [
    "from utils import read_lines, left_turn, right_turn\n",
    "\n",
    "\n",
    "def part1(input_file):\n",
    "    line = read_lines(input_file)[0]\n",
    "    moves = line.split(', ')\n",
    "\n",
    "    cur_row, cur_col = 0, 0\n",
    "    cur_direction = (-1, 0)\n",
    "\n",
    "    for m in moves:\n",
    "        turn = m[:1]\n",
    "        if turn == 'L':\n",
    "            cur_direction = left_turn[cur_direction]\n",
    "        else:\n",
    "            cur_direction = right_turn[cur_direction]\n",
    "        steps = int(m[1:])\n",
    "        cur_row += steps * cur_direction[0]\n",
    "        cur_col += steps * cur_direction[1]\n",
    "    return abs(cur_row) + abs(cur_col)\n",
    "\n",
    "\n",
    "def part2(input_file):\n",
    "    line = read_lines(input_file)[0]\n",
    "    moves = line.split(', ')\n",
    "\n",
    "    cur_row, cur_col = 0, 0\n",
    "    cur_direction = (-1, 0)\n",
    "\n",
    "    visited = set([(0, 0)])\n",
    "    for m in moves:\n",
    "        turn = m[:1]\n",
    "        if turn == 'L':\n",
    "            cur_direction = left_turn[cur_direction]\n",
    "        else:\n",
    "            cur_direction = right_turn[cur_direction]\n",
    "        steps = int(m[1:])\n",
    "        for i in range(steps):\n",
    "            cur_row += cur_direction[0]\n",
    "            cur_col += cur_direction[1]\n",
    "\n",
    "            if (cur_row, cur_col) in visited:\n",
    "                return abs(cur_row) + abs(cur_col)\n",
    "            else:\n",
    "                visited.add((cur_row, cur_col))\n",
    "    "
   ]
  },
  {
   "cell_type": "code",
   "execution_count": 4,
   "metadata": {},
   "outputs": [
    {
     "data": {
      "text/plain": [
       "234"
      ]
     },
     "execution_count": 4,
     "metadata": {},
     "output_type": "execute_result"
    }
   ],
   "source": [
    "part1('inputs/day1.txt')"
   ]
  },
  {
   "cell_type": "code",
   "execution_count": 8,
   "metadata": {},
   "outputs": [
    {
     "data": {
      "text/plain": [
       "113"
      ]
     },
     "execution_count": 8,
     "metadata": {},
     "output_type": "execute_result"
    }
   ],
   "source": [
    "part2('inputs/day1.txt')"
   ]
  },
  {
   "cell_type": "code",
   "execution_count": null,
   "metadata": {},
   "outputs": [],
   "source": []
  }
 ],
 "metadata": {
  "kernelspec": {
   "display_name": "Test",
   "language": "python",
   "name": "python3"
  },
  "language_info": {
   "codemirror_mode": {
    "name": "ipython",
    "version": 3
   },
   "file_extension": ".py",
   "mimetype": "text/x-python",
   "name": "python",
   "nbconvert_exporter": "python",
   "pygments_lexer": "ipython3",
   "version": "3.12.2"
  }
 },
 "nbformat": 4,
 "nbformat_minor": 2
}
