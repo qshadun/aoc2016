{
 "cells": [
  {
   "cell_type": "code",
   "execution_count": 19,
   "metadata": {},
   "outputs": [],
   "source": [
    "from utils import read_lines\n",
    "\n",
    "def is_tls(ip):\n",
    "    n = len(ip)\n",
    "    abba = False\n",
    "    hyper_abba = False\n",
    "    in_hyper = False\n",
    "    for i in range(n-3):\n",
    "        if not in_hyper:\n",
    "            if ip[i] == '[':\n",
    "                in_hyper = True\n",
    "            elif not abba:\n",
    "                abba = ip[i] != ip[i+1] and ip[i+1] == ip[i+2] and ip[i] == ip[i+3]\n",
    "        else:\n",
    "            if ip[i] == ']':\n",
    "                in_hyper = False\n",
    "            else:\n",
    "                hyper_abba = ip[i] != ip[i+1] and ip[i+1] == ip[i+2] and ip[i] == ip[i+3]\n",
    "                if hyper_abba:\n",
    "                    return False\n",
    "    return abba\n",
    "\n",
    "\n",
    "def is_ssl(ip):\n",
    "    n = len(ip)\n",
    "    aba = set()\n",
    "    hyper_aba = set()\n",
    "    in_hyper = False\n",
    "    for i in range(n-2):\n",
    "        if not in_hyper:\n",
    "            if ip[i] == '[':\n",
    "                in_hyper = True\n",
    "            else:\n",
    "                if ip[i+1] != '[' and ip[i] != ip[i+1] and ip[i] == ip[i+2]:\n",
    "                    aba.add(ip[i:i+3])\n",
    "        else:\n",
    "            if ip[i] == ']':\n",
    "                in_hyper = False\n",
    "            else:\n",
    "                if ip[i+1] != ']' and ip[i] != ip[i+1] and ip[i] == ip[i+2]:\n",
    "                    hyper_aba.add(ip[i:i+3])\n",
    "    for s in aba:\n",
    "        if f'{s[1]}{s[0]}{s[1]}' in hyper_aba:\n",
    "            return True\n",
    "    return False\n",
    "\n",
    "def part1(input_file):\n",
    "    ans = 0\n",
    "    for line in read_lines(input_file):\n",
    "        if is_tls(line):\n",
    "            ans += 1\n",
    "    return ans\n",
    "\n",
    "def part2(input_file):\n",
    "    ans = 0\n",
    "    for line in read_lines(input_file):\n",
    "        if is_ssl(line):\n",
    "            ans += 1\n",
    "    return ans"
   ]
  },
  {
   "cell_type": "code",
   "execution_count": 7,
   "metadata": {},
   "outputs": [
    {
     "data": {
      "text/plain": [
       "118"
      ]
     },
     "execution_count": 7,
     "metadata": {},
     "output_type": "execute_result"
    }
   ],
   "source": [
    "part1('inputs/day7.txt')"
   ]
  },
  {
   "cell_type": "code",
   "execution_count": 20,
   "metadata": {},
   "outputs": [
    {
     "data": {
      "text/plain": [
       "260"
      ]
     },
     "execution_count": 20,
     "metadata": {},
     "output_type": "execute_result"
    }
   ],
   "source": [
    "part2('inputs/day7.txt')"
   ]
  },
  {
   "cell_type": "code",
   "execution_count": 5,
   "metadata": {},
   "outputs": [],
   "source": [
    "assert is_tls('abba[mnop]qrst')\n",
    "assert not is_tls('abcd[bddb]xyyx')\n",
    "assert not is_tls('aaaa[qwer]tyui')\n",
    "assert is_tls('ioxxoj[asdfgh]zxcvbn')"
   ]
  },
  {
   "cell_type": "code",
   "execution_count": 17,
   "metadata": {},
   "outputs": [],
   "source": [
    "assert is_ssl('aba[bab]xyz')\n",
    "assert not is_ssl('xyx[xyx]xyx')\n",
    "assert is_ssl('zazbz[bzb]cdb')"
   ]
  },
  {
   "cell_type": "code",
   "execution_count": null,
   "metadata": {},
   "outputs": [],
   "source": []
  }
 ],
 "metadata": {
  "kernelspec": {
   "display_name": "Test",
   "language": "python",
   "name": "python3"
  },
  "language_info": {
   "codemirror_mode": {
    "name": "ipython",
    "version": 3
   },
   "file_extension": ".py",
   "mimetype": "text/x-python",
   "name": "python",
   "nbconvert_exporter": "python",
   "pygments_lexer": "ipython3",
   "version": "3.12.2"
  }
 },
 "nbformat": 4,
 "nbformat_minor": 2
}
