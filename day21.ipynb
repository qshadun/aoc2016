{
 "cells": [
  {
   "cell_type": "code",
   "execution_count": 49,
   "metadata": {},
   "outputs": [],
   "source": [
    "from utils import read_lines\n",
    "\n",
    "my_input = 'abcdefgh'\n",
    "\n",
    "my_input2 = 'fbgdceah'\n",
    "\n",
    "def part1(input_file, input):\n",
    "    lines = read_lines(input_file)\n",
    "    arr = [c for c in input]\n",
    "    n = len(arr)\n",
    "    for line in lines:\n",
    "        try:\n",
    "            parts = line.split(' ')\n",
    "            if line.startswith('swap position'):\n",
    "                p1, p2 = int(parts[2]), int(parts[5])\n",
    "                arr[p1], arr[p2] = arr[p2], arr[p1]\n",
    "            elif line.startswith('swap letter'):\n",
    "                l1, l2 = parts[2], parts[5]\n",
    "                p1, p2 = arr.index(l1), arr.index(l2)\n",
    "                arr[p1], arr[p2] = arr[p2], arr[p1]\n",
    "            elif line.startswith('rotate left'):\n",
    "                steps = int(parts[2])\n",
    "                steps %= n\n",
    "                arr = arr[steps:] + arr[:steps]\n",
    "            elif line.startswith('rotate right'):\n",
    "                steps = int(parts[2])\n",
    "                steps %= n\n",
    "                arr = arr[n-steps:] + arr[:n-steps]\n",
    "            elif line.startswith('rotate based'):\n",
    "                letter = parts[6]\n",
    "                idx = arr.index(letter)\n",
    "                steps = idx + 1\n",
    "                if idx >=4:\n",
    "                    steps += 1\n",
    "                steps %= n\n",
    "                arr = arr[n-steps:] + arr[:n-steps]\n",
    "            elif line.startswith('reverse positions'):\n",
    "                p1, p2 = int(parts[2]), int(parts[4])\n",
    "                while p1 < p2:\n",
    "                    arr[p1], arr[p2] = arr[p2], arr[p1]\n",
    "                    p1 += 1\n",
    "                    p2 -= 1\n",
    "            elif line.startswith('move position'):\n",
    "                p1 = int(parts[2])\n",
    "                p2 = int(parts[5])\n",
    "                l1 = arr.pop(p1)\n",
    "                arr.insert(p2, l1)\n",
    "            else:\n",
    "                raise ValueError(f'unknown command {line}')\n",
    "        except Exception:\n",
    "            print(line)\n",
    "            raise\n",
    "    return ''.join(arr)\n",
    "\n",
    "def part2(input_file, input):\n",
    "    lines = read_lines(input_file)\n",
    "    arr = [c for c in input]\n",
    "    n = len(arr)\n",
    "    for line in lines[::-1]:\n",
    "        try:\n",
    "            parts = line.split(' ')\n",
    "            if line.startswith('swap position'):\n",
    "                p1, p2 = int(parts[2]), int(parts[5])\n",
    "                arr[p1], arr[p2] = arr[p2], arr[p1]\n",
    "            elif line.startswith('swap letter'):\n",
    "                l1, l2 = parts[2], parts[5]\n",
    "                p1, p2 = arr.index(l1), arr.index(l2)\n",
    "                arr[p1], arr[p2] = arr[p2], arr[p1]\n",
    "            elif line.startswith('rotate left'):\n",
    "                steps = int(parts[2])\n",
    "                steps %= n\n",
    "                arr = arr[n-steps:] + arr[:n-steps]\n",
    "                \n",
    "            elif line.startswith('rotate right'):\n",
    "                steps = int(parts[2])\n",
    "                steps %= n\n",
    "                arr = arr[steps:] + arr[:steps]\n",
    "            elif line.startswith('rotate based'):\n",
    "                letter = parts[6]\n",
    "                new_arr = None\n",
    "                for i in range(n):\n",
    "                    new_arr = arr[i:] + arr[:i]\n",
    "                    idx = new_arr.index(letter)\n",
    "                    steps = idx + 1\n",
    "                    if idx >=4:\n",
    "                        steps += 1\n",
    "                    steps %= n\n",
    "                    tmp = new_arr[n-steps:] + new_arr[:n-steps]\n",
    "                    if tmp == arr:\n",
    "                        break\n",
    "                arr = new_arr\n",
    "            elif line.startswith('reverse positions'):\n",
    "                p1, p2 = int(parts[2]), int(parts[4])\n",
    "                while p1 < p2:\n",
    "                    arr[p1], arr[p2] = arr[p2], arr[p1]\n",
    "                    p1 += 1\n",
    "                    p2 -= 1\n",
    "            elif line.startswith('move position'):\n",
    "                p1 = int(parts[2])\n",
    "                p2 = int(parts[5])\n",
    "                l1 = arr.pop(p2)\n",
    "                arr.insert(p1, l1)\n",
    "            else:\n",
    "                raise ValueError(f'unknown command {line}')\n",
    "        except Exception:\n",
    "            print(line)\n",
    "            raise\n",
    "    return ''.join(arr)\n"
   ]
  },
  {
   "cell_type": "code",
   "execution_count": 48,
   "metadata": {},
   "outputs": [
    {
     "data": {
      "text/plain": [
       "'dbfgaehc'"
      ]
     },
     "execution_count": 48,
     "metadata": {},
     "output_type": "execute_result"
    }
   ],
   "source": [
    "part1('inputs/day21.txt', my_input)"
   ]
  },
  {
   "cell_type": "code",
   "execution_count": 50,
   "metadata": {},
   "outputs": [
    {
     "data": {
      "text/plain": [
       "'aghfcdeb'"
      ]
     },
     "execution_count": 50,
     "metadata": {},
     "output_type": "execute_result"
    }
   ],
   "source": [
    "part2('inputs/day21.txt', my_input2)"
   ]
  },
  {
   "cell_type": "code",
   "execution_count": 52,
   "metadata": {},
   "outputs": [
    {
     "data": {
      "text/plain": [
       "True"
      ]
     },
     "execution_count": 52,
     "metadata": {},
     "output_type": "execute_result"
    }
   ],
   "source": [
    "part1('inputs/day21.txt', part2('inputs/day21.txt', my_input2)) == my_input2"
   ]
  },
  {
   "cell_type": "code",
   "execution_count": null,
   "metadata": {},
   "outputs": [],
   "source": []
  }
 ],
 "metadata": {
  "kernelspec": {
   "display_name": "Test",
   "language": "python",
   "name": "python3"
  },
  "language_info": {
   "codemirror_mode": {
    "name": "ipython",
    "version": 3
   },
   "file_extension": ".py",
   "mimetype": "text/x-python",
   "name": "python",
   "nbconvert_exporter": "python",
   "pygments_lexer": "ipython3",
   "version": "3.12.2"
  }
 },
 "nbformat": 4,
 "nbformat_minor": 2
}
