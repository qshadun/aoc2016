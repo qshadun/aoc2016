{
 "cells": [
  {
   "cell_type": "code",
   "execution_count": 9,
   "metadata": {},
   "outputs": [],
   "source": [
    "from utils import read_lines\n",
    "\n",
    "def parse_input(input_file):\n",
    "    ans = []\n",
    "    for line in read_lines(input_file):\n",
    "        n1, n2 = line.split('-')\n",
    "        ans.append([int(n1), int(n2)])\n",
    "    return ans\n",
    "\n",
    "def part1(input_file):\n",
    "    ranges = parse_input(input_file)\n",
    "    ranges.sort()\n",
    "    if ranges[0][0] > 0:\n",
    "        return 0\n",
    "    \n",
    "    cur_up = ranges[0][1]\n",
    "    for low, up in ranges[1:]:\n",
    "        if low > cur_up + 1:\n",
    "            return cur_up + 1\n",
    "        else:\n",
    "            cur_up = max(cur_up, up)\n",
    "\n",
    "def part2(input_file):\n",
    "    ranges = parse_input(input_file)\n",
    "    ranges.sort()\n",
    "    ans = 0\n",
    "    cur_up = 0\n",
    "    for low, up in ranges:\n",
    "        if low > cur_up + 1:\n",
    "            ans += low - cur_up - 1\n",
    "            cur_up = up\n",
    "        else:\n",
    "            cur_up = max(cur_up, up)\n",
    "    ans += 4294967295 - cur_up\n",
    "    return ans\n",
    "    "
   ]
  },
  {
   "cell_type": "code",
   "execution_count": 4,
   "metadata": {},
   "outputs": [
    {
     "data": {
      "text/plain": [
       "22887907"
      ]
     },
     "execution_count": 4,
     "metadata": {},
     "output_type": "execute_result"
    }
   ],
   "source": [
    "part1('inputs/day20.txt')"
   ]
  },
  {
   "cell_type": "code",
   "execution_count": 10,
   "metadata": {},
   "outputs": [
    {
     "data": {
      "text/plain": [
       "109"
      ]
     },
     "execution_count": 10,
     "metadata": {},
     "output_type": "execute_result"
    }
   ],
   "source": [
    "part2('inputs/day20.txt')"
   ]
  },
  {
   "cell_type": "code",
   "execution_count": null,
   "metadata": {},
   "outputs": [],
   "source": []
  }
 ],
 "metadata": {
  "kernelspec": {
   "display_name": "Test",
   "language": "python",
   "name": "python3"
  },
  "language_info": {
   "codemirror_mode": {
    "name": "ipython",
    "version": 3
   },
   "file_extension": ".py",
   "mimetype": "text/x-python",
   "name": "python",
   "nbconvert_exporter": "python",
   "pygments_lexer": "ipython3",
   "version": "3.12.2"
  }
 },
 "nbformat": 4,
 "nbformat_minor": 2
}
