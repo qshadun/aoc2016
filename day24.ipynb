{
 "cells": [
  {
   "cell_type": "code",
   "execution_count": 27,
   "metadata": {},
   "outputs": [],
   "source": [
    "from utils import read_lines\n",
    "from collections import deque\n",
    "from functools import cache\n",
    "\n",
    "deltas = [[-1, 0], [1, 0], [0, -1], [0, 1]]\n",
    "def parse_input(input_file):\n",
    "    matrix = []\n",
    "    for line in read_lines(input_file):\n",
    "        matrix.append([c for c in line])\n",
    "    nums = {}\n",
    "    m, n = len(matrix), len(matrix[0])\n",
    "    for i in range(m):\n",
    "        for j in range(n):\n",
    "            if '0' <= matrix[i][j] <= '9':\n",
    "                nums[int(matrix[i][j])] = (i, j)\n",
    "    return matrix, nums\n",
    "\n",
    "def part1(input_file):\n",
    "    matrix, nums = parse_input(input_file)\n",
    "    m, n = len(matrix), len(matrix[0])\n",
    "    cnt = len(nums)\n",
    "    dist_matrix = [[0] * cnt for _ in range(cnt)]\n",
    "    for i in range(cnt):\n",
    "        start = nums[i]\n",
    "        visited = set([start])\n",
    "        q = deque([start])\n",
    "        found = 1\n",
    "        steps = 0\n",
    "        while found < cnt:\n",
    "            cur_len = len(q)\n",
    "            for _ in range(cur_len):\n",
    "                cur_i, cur_j = q.popleft()\n",
    "                for di, dj in deltas:\n",
    "                    ni, nj = cur_i + di, cur_j + dj\n",
    "                    if 0 <= ni < m and 0 <= nj < n and matrix[ni][nj] != '#' and (ni, nj) not in visited:\n",
    "                        q.append((ni, nj))\n",
    "                        visited.add((ni, nj))\n",
    "                        if '0' <= matrix[ni][nj] <= '9':\n",
    "                            dist_matrix[i][int(matrix[ni][nj])] = steps + 1\n",
    "                            found += 1\n",
    "            \n",
    "            steps += 1\n",
    "    \n",
    "    @cache\n",
    "    def dp(cur_num, mask):\n",
    "        if mask == 2**(cnt-1) - 1:\n",
    "            return 0\n",
    "        min_steps = float('inf')\n",
    "        for i in range(1, cnt):\n",
    "            if not mask & (1 << i-1):\n",
    "                rest= dp(i, mask | (1 << i-1))\n",
    "                steps = rest + dist_matrix[cur_num][i]\n",
    "                if steps < min_steps:\n",
    "                    min_steps = steps\n",
    "        return min_steps\n",
    "    return dp(0, 0)\n",
    "\n",
    "\n",
    "def part2(input_file):\n",
    "    matrix, nums = parse_input(input_file)\n",
    "    m, n = len(matrix), len(matrix[0])\n",
    "    cnt = len(nums)\n",
    "    dist_matrix = [[0] * cnt for _ in range(cnt)]\n",
    "    for i in range(cnt):\n",
    "        start = nums[i]\n",
    "        visited = set([start])\n",
    "        q = deque([start])\n",
    "        found = 1\n",
    "        steps = 0\n",
    "        while found < cnt:\n",
    "            cur_len = len(q)\n",
    "            for _ in range(cur_len):\n",
    "                cur_i, cur_j = q.popleft()\n",
    "                for di, dj in deltas:\n",
    "                    ni, nj = cur_i + di, cur_j + dj\n",
    "                    if 0 <= ni < m and 0 <= nj < n and matrix[ni][nj] != '#' and (ni, nj) not in visited:\n",
    "                        q.append((ni, nj))\n",
    "                        visited.add((ni, nj))\n",
    "                        if '0' <= matrix[ni][nj] <= '9':\n",
    "                            dist_matrix[i][int(matrix[ni][nj])] = steps + 1\n",
    "                            found += 1\n",
    "            \n",
    "            steps += 1\n",
    "    \n",
    "    @cache\n",
    "    def dp(cur_num, mask):\n",
    "        if mask == 2**(cnt-1) - 1:\n",
    "            return dist_matrix[cur_num][0]\n",
    "        min_steps = float('inf')\n",
    "        for i in range(1, cnt):\n",
    "            if not mask & (1 << i-1):\n",
    "                rest= dp(i, mask | (1 << i-1))\n",
    "                steps = rest + dist_matrix[cur_num][i]\n",
    "                if steps < min_steps:\n",
    "                    min_steps = steps\n",
    "        return min_steps\n",
    "    return dp(0, 0)"
   ]
  },
  {
   "cell_type": "code",
   "execution_count": 28,
   "metadata": {},
   "outputs": [
    {
     "data": {
      "text/plain": [
       "498"
      ]
     },
     "execution_count": 28,
     "metadata": {},
     "output_type": "execute_result"
    }
   ],
   "source": [
    "part1('inputs/day24.txt')"
   ]
  },
  {
   "cell_type": "code",
   "execution_count": 26,
   "metadata": {},
   "outputs": [
    {
     "data": {
      "text/plain": [
       "804"
      ]
     },
     "execution_count": 26,
     "metadata": {},
     "output_type": "execute_result"
    }
   ],
   "source": [
    "part2('inputs/day24.txt')"
   ]
  },
  {
   "cell_type": "code",
   "execution_count": null,
   "metadata": {},
   "outputs": [],
   "source": []
  }
 ],
 "metadata": {
  "kernelspec": {
   "display_name": "Test",
   "language": "python",
   "name": "python3"
  },
  "language_info": {
   "codemirror_mode": {
    "name": "ipython",
    "version": 3
   },
   "file_extension": ".py",
   "mimetype": "text/x-python",
   "name": "python",
   "nbconvert_exporter": "python",
   "pygments_lexer": "ipython3",
   "version": "3.12.2"
  }
 },
 "nbformat": 4,
 "nbformat_minor": 2
}
