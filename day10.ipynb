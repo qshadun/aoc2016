{
 "cells": [
  {
   "cell_type": "code",
   "execution_count": 10,
   "metadata": {},
   "outputs": [],
   "source": [
    "from utils import read_lines\n",
    "from collections import defaultdict\n",
    "\n",
    "\n",
    "def part1(input_file, t_low=17, t_high=61):\n",
    "    lines = read_lines(input_file)\n",
    "    bots_values = defaultdict(list)\n",
    "    bots_instructions = {}\n",
    "    outputs = {}\n",
    "    for line in lines:\n",
    "        parts = line.split(' ')\n",
    "        if parts[0] == 'value':\n",
    "            v, b = int(parts[1]), int(parts[5])\n",
    "            bots_values[b].append(v)\n",
    "        else:\n",
    "            b, lo, hi = int(parts[1]), int(parts[6]), int(parts[11])\n",
    "            bots_instructions[b] = ((parts[5], lo), (parts[10], hi))\n",
    "    while True:\n",
    "        new_bots_values = defaultdict(list)\n",
    "        for b, values in bots_values.items():\n",
    "            if len(values) == 2:\n",
    "                values.sort()\n",
    "                low, high = values\n",
    "                if low == t_low and high == t_high:\n",
    "                    return b\n",
    "               \n",
    "                (tp_low, b_low), (tp_high, b_high) = bots_instructions[b]\n",
    "                if tp_low == 'bot':\n",
    "                    new_bots_values[b_low].append(low)\n",
    "                else:\n",
    "                    outputs[b_low] = low\n",
    "                if tp_high == 'bot':\n",
    "                    new_bots_values[b_high].append(high)\n",
    "                else:\n",
    "                    outputs[b_high] = high\n",
    "            elif len(values) == 1:\n",
    "                new_bots_values[b].append(values[0])\n",
    "            else:\n",
    "                raise ValueError(f'{b}: {values}')\n",
    "        bots_values = new_bots_values\n",
    "\n",
    "\n",
    "def part2(input_file):\n",
    "    lines = read_lines(input_file)\n",
    "    bots_values = defaultdict(list)\n",
    "    bots_instructions = {}\n",
    "    outputs = {}\n",
    "    for line in lines:\n",
    "        parts = line.split(' ')\n",
    "        if parts[0] == 'value':\n",
    "            v, b = int(parts[1]), int(parts[5])\n",
    "            bots_values[b].append(v)\n",
    "        else:\n",
    "            b, lo, hi = int(parts[1]), int(parts[6]), int(parts[11])\n",
    "            bots_instructions[b] = ((parts[5], lo), (parts[10], hi))\n",
    "    while True:\n",
    "        if all(x in outputs for x in (0, 1, 2)):\n",
    "            return outputs[0] * outputs[1] * outputs[2]\n",
    "        new_bots_values = defaultdict(list)\n",
    "        for b, values in bots_values.items():\n",
    "            if len(values) == 2:\n",
    "                values.sort()\n",
    "                low, high = values\n",
    "               \n",
    "                (tp_low, b_low), (tp_high, b_high) = bots_instructions[b]\n",
    "                if tp_low == 'bot':\n",
    "                    new_bots_values[b_low].append(low)\n",
    "                else:\n",
    "                    outputs[b_low] = low\n",
    "                if tp_high == 'bot':\n",
    "                    new_bots_values[b_high].append(high)\n",
    "                else:\n",
    "                    outputs[b_high] = high\n",
    "            elif len(values) == 1:\n",
    "                new_bots_values[b].append(values[0])\n",
    "            else:\n",
    "                raise ValueError(f'{b}: {values}')\n",
    "        bots_values = new_bots_values"
   ]
  },
  {
   "cell_type": "code",
   "execution_count": 9,
   "metadata": {},
   "outputs": [
    {
     "data": {
      "text/plain": [
       "73"
      ]
     },
     "execution_count": 9,
     "metadata": {},
     "output_type": "execute_result"
    }
   ],
   "source": [
    "part1('inputs/day10.txt')"
   ]
  },
  {
   "cell_type": "code",
   "execution_count": 8,
   "metadata": {},
   "outputs": [
    {
     "data": {
      "text/plain": [
       "2"
      ]
     },
     "execution_count": 8,
     "metadata": {},
     "output_type": "execute_result"
    }
   ],
   "source": [
    "part1('inputs/day10_test.txt', 2, 5)"
   ]
  },
  {
   "cell_type": "code",
   "execution_count": 11,
   "metadata": {},
   "outputs": [
    {
     "data": {
      "text/plain": [
       "3965"
      ]
     },
     "execution_count": 11,
     "metadata": {},
     "output_type": "execute_result"
    }
   ],
   "source": [
    "part2('inputs/day10.txt')"
   ]
  },
  {
   "cell_type": "code",
   "execution_count": null,
   "metadata": {},
   "outputs": [],
   "source": []
  }
 ],
 "metadata": {
  "kernelspec": {
   "display_name": "Test",
   "language": "python",
   "name": "python3"
  },
  "language_info": {
   "codemirror_mode": {
    "name": "ipython",
    "version": 3
   },
   "file_extension": ".py",
   "mimetype": "text/x-python",
   "name": "python",
   "nbconvert_exporter": "python",
   "pygments_lexer": "ipython3",
   "version": "3.12.2"
  }
 },
 "nbformat": 4,
 "nbformat_minor": 2
}
