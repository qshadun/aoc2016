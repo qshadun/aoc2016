{
 "cells": [
  {
   "cell_type": "code",
   "execution_count": 15,
   "metadata": {},
   "outputs": [],
   "source": [
    "from collections import Counter, deque\n",
    "\n",
    "test_input = 10, 7, 4\n",
    "\n",
    "input1 = 1364, 31, 39\n",
    "\n",
    "def build_matrix(num):\n",
    "    n = 100\n",
    "    matrix = [['.'] * n for _ in range(n)]\n",
    "    for x in range(n):\n",
    "        for y in range(n):\n",
    "            f = x * x + 3 * x + 2 * x * y + y + y * y\n",
    "            f += num\n",
    "            bits = Counter(bin(f)[2:])['1']\n",
    "            if bits % 2:\n",
    "                matrix[y][x] = '#'\n",
    "    return matrix\n",
    "\n",
    "def print_matrix(matrix):\n",
    "    for row in matrix:\n",
    "        print(''.join(row))\n",
    "\n",
    "deltas = [(-1, 0), (1, 0), (0, -1), (0, 1)]\n",
    "\n",
    "def part1(input):\n",
    "    num, end_x, end_y = input\n",
    "    matrix = build_matrix(num)\n",
    "    start_pos = (1, 1)\n",
    "    steps = 0\n",
    "    visited = set([start_pos])\n",
    "    q = deque([start_pos])\n",
    "    while q:\n",
    "        cur_len = len(q)\n",
    "        for _ in range(cur_len):\n",
    "            x, y = q.popleft()\n",
    "            for dx, dy in deltas:\n",
    "                nx, ny = x + dx, y + dy\n",
    "                if 0 <= nx < len(matrix) and 0 <= ny < len(matrix) and matrix[ny][nx] == '.' and (nx, ny) not in visited:\n",
    "                    if nx == end_x and ny == end_y:\n",
    "                        return steps + 1\n",
    "                    visited.add((nx, ny))\n",
    "                    q.append((nx, ny))\n",
    "        steps += 1\n",
    "\n",
    "\n",
    "def part2(input):\n",
    "    num, end_x, end_y = input\n",
    "    matrix = build_matrix(num)\n",
    "    start_pos = (1, 1)\n",
    "    steps = 0\n",
    "    visited = set([start_pos])\n",
    "    q = deque([start_pos])\n",
    "    while steps < 50:\n",
    "        cur_len = len(q)\n",
    "        for _ in range(cur_len):\n",
    "            x, y = q.popleft()\n",
    "            for dx, dy in deltas:\n",
    "                nx, ny = x + dx, y + dy\n",
    "                if 0 <= nx < len(matrix) and 0 <= ny < len(matrix) and matrix[ny][nx] == '.' and (nx, ny) not in visited:\n",
    "                    visited.add((nx, ny))\n",
    "                    q.append((nx, ny))\n",
    "        steps += 1\n",
    "    return len(visited)"
   ]
  },
  {
   "cell_type": "code",
   "execution_count": 13,
   "metadata": {},
   "outputs": [
    {
     "data": {
      "text/plain": [
       "11"
      ]
     },
     "execution_count": 13,
     "metadata": {},
     "output_type": "execute_result"
    }
   ],
   "source": [
    "part1(test_input)"
   ]
  },
  {
   "cell_type": "code",
   "execution_count": 14,
   "metadata": {},
   "outputs": [
    {
     "data": {
      "text/plain": [
       "86"
      ]
     },
     "execution_count": 14,
     "metadata": {},
     "output_type": "execute_result"
    }
   ],
   "source": [
    "part1(input1)"
   ]
  },
  {
   "cell_type": "code",
   "execution_count": 16,
   "metadata": {},
   "outputs": [
    {
     "data": {
      "text/plain": [
       "127"
      ]
     },
     "execution_count": 16,
     "metadata": {},
     "output_type": "execute_result"
    }
   ],
   "source": [
    "part2(input1)"
   ]
  },
  {
   "cell_type": "code",
   "execution_count": null,
   "metadata": {},
   "outputs": [],
   "source": []
  }
 ],
 "metadata": {
  "kernelspec": {
   "display_name": "Test",
   "language": "python",
   "name": "python3"
  },
  "language_info": {
   "codemirror_mode": {
    "name": "ipython",
    "version": 3
   },
   "file_extension": ".py",
   "mimetype": "text/x-python",
   "name": "python",
   "nbconvert_exporter": "python",
   "pygments_lexer": "ipython3",
   "version": "3.12.2"
  }
 },
 "nbformat": 4,
 "nbformat_minor": 2
}
