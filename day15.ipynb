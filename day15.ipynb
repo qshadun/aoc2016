{
 "cells": [
  {
   "cell_type": "code",
   "execution_count": 7,
   "metadata": {},
   "outputs": [],
   "source": [
    "from utils import read_lines\n",
    "import numpy as np\n",
    "\n",
    "def parse_input(input_file):\n",
    "    nums, pos = [], []\n",
    "    for line in read_lines(input_file):\n",
    "        parts = line.split(' ')\n",
    "        n = int(parts[3])\n",
    "        r = int(parts[-1][:-1])\n",
    "        nums.append(n)\n",
    "        pos.append(r)\n",
    "    return nums, pos\n",
    "\n",
    "\n",
    "def part1(input_file):\n",
    "    nums, pos = parse_input(input_file)\n",
    "    n = len(nums)\n",
    "    remainders = []\n",
    "    for i in range(n):\n",
    "        num = nums[i]\n",
    "        remainder = num - ((pos[i] + i + 1) % num)\n",
    "        remainders.append(remainder)\n",
    "    print(nums, remainders)\n",
    "\n",
    "    A = 0\n",
    "    for i in range(n):\n",
    "        num, rem = nums[i], remainders[i]\n",
    "\n",
    "        others = int(np.prod(nums[:i] + nums[i+1:]))\n",
    "        M = others\n",
    "        while M % num != 1:\n",
    "            M += others\n",
    "        A += M * rem\n",
    "    return A % np.prod(nums)\n",
    "\n",
    "def part2(input_file):\n",
    "    nums, pos = parse_input(input_file)\n",
    "    nums.append(11)\n",
    "    pos.append(0)\n",
    "    n = len(nums)\n",
    "\n",
    "    remainders = []\n",
    "    for i in range(n):\n",
    "        num = nums[i]\n",
    "        remainder = num - ((pos[i] + i + 1) % num)\n",
    "        remainders.append(remainder)\n",
    "    print(nums, remainders)\n",
    "\n",
    "    A = 0\n",
    "    for i in range(n):\n",
    "        num, rem = nums[i], remainders[i]\n",
    "\n",
    "        others = int(np.prod(nums[:i] + nums[i+1:]))\n",
    "        M = others\n",
    "        while M % num != 1:\n",
    "            M += others\n",
    "        A += M * rem\n",
    "    return A % np.prod(nums)\n",
    "        "
   ]
  },
  {
   "cell_type": "code",
   "execution_count": 4,
   "metadata": {},
   "outputs": [
    {
     "name": "stdout",
     "output_type": "stream",
     "text": [
      "[13, 19, 3, 7, 5, 17] [11, 7, 1, 2, 2, 6]\n"
     ]
    },
    {
     "data": {
      "text/plain": [
       "376777"
      ]
     },
     "execution_count": 4,
     "metadata": {},
     "output_type": "execute_result"
    }
   ],
   "source": [
    "part1('inputs/day15.txt')"
   ]
  },
  {
   "cell_type": "code",
   "execution_count": 8,
   "metadata": {},
   "outputs": [
    {
     "name": "stdout",
     "output_type": "stream",
     "text": [
      "[13, 19, 3, 7, 5, 17, 11] [11, 7, 1, 2, 2, 6, 4]\n"
     ]
    },
    {
     "data": {
      "text/plain": [
       "3903937"
      ]
     },
     "execution_count": 8,
     "metadata": {},
     "output_type": "execute_result"
    }
   ],
   "source": [
    "part2('inputs/day15.txt')"
   ]
  },
  {
   "cell_type": "code",
   "execution_count": null,
   "metadata": {},
   "outputs": [],
   "source": []
  }
 ],
 "metadata": {
  "kernelspec": {
   "display_name": "Test",
   "language": "python",
   "name": "python3"
  },
  "language_info": {
   "codemirror_mode": {
    "name": "ipython",
    "version": 3
   },
   "file_extension": ".py",
   "mimetype": "text/x-python",
   "name": "python",
   "nbconvert_exporter": "python",
   "pygments_lexer": "ipython3",
   "version": "3.12.2"
  }
 },
 "nbformat": 4,
 "nbformat_minor": 2
}
