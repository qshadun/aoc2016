{
 "cells": [
  {
   "cell_type": "code",
   "execution_count": 32,
   "metadata": {},
   "outputs": [],
   "source": [
    "from utils import read_lines\n",
    "import hashlib\n",
    "from collections import deque\n",
    "\n",
    "hash_to_dir = {\n",
    "    'b': 'U',\n",
    "    'c': 'D',\n",
    "    'e': 'L',\n",
    "    'F': 'R'\n",
    "}\n",
    "\n",
    "deltas = {\n",
    "    'U': [-1, 0],\n",
    "    'D': [1, 0],\n",
    "    'L': [0, -1],\n",
    "    'R': [0, 1]\n",
    "}\n",
    "\n",
    "def md5(s):\n",
    "    return hashlib.md5(s.encode()).digest().hex()\n",
    "\n",
    "def parse_input(input_file):\n",
    "    lines = read_lines(input_file)\n",
    "    return lines\n",
    "\n",
    "doors = 'bcdef'\n",
    "def open_doors(input, path):\n",
    "    h = md5(f'{input}{path}')\n",
    "    ans = []\n",
    "    if h[0] in doors:\n",
    "        ans.append('U')\n",
    "    if h[1] in doors:\n",
    "        ans.append('D')\n",
    "    if h[2] in doors:\n",
    "        ans.append('L')\n",
    "    if h[3] in doors:\n",
    "        ans.append('R')\n",
    "    return ans\n",
    "\n",
    "test_input = 'ihgpwlah'\n",
    "\n",
    "my_input = 'vwbaicqe'\n",
    "def part1(input):\n",
    "    maze = parse_input('inputs/day17.txt')\n",
    "    start = (1, 1)\n",
    "    m, n = len(maze), len(maze[0])\n",
    "    end = (m-2, n-2)\n",
    "    q = deque([(start, '')])\n",
    "    visited = set([(start, '')])\n",
    "    while q:\n",
    "        pos, path = q.popleft()\n",
    "        row, col = pos\n",
    "        directions = open_doors(input, path)\n",
    "        for d in directions:\n",
    "            drow, dcol = deltas[d]\n",
    "            nrow, ncol = row + 2* drow, col + 2*dcol\n",
    "            npath = f'{path}{d}'\n",
    "            if (nrow, ncol) == end:\n",
    "                return npath\n",
    "            if 0 <= nrow < m and 0 <= ncol < n and ((nrow, ncol), npath) not in visited:\n",
    "                q.append(((nrow, ncol), npath))\n",
    "                visited.add(((nrow, ncol), npath))\n",
    "\n",
    "def part2(input):\n",
    "    maze = parse_input('inputs/day17.txt')\n",
    "    start = (1, 1)\n",
    "    m, n = len(maze), len(maze[0])\n",
    "    end = (m-2, n-2)\n",
    "    q = deque([(start, '')])\n",
    "    visited = set([(start, '')])\n",
    "    longest = 0\n",
    "    while q:\n",
    "        pos, path = q.popleft()\n",
    "        row, col = pos\n",
    "        directions = open_doors(input, path)\n",
    "        for d in directions:\n",
    "            drow, dcol = deltas[d]\n",
    "            nrow, ncol = row + 2* drow, col + 2*dcol\n",
    "            npath = f'{path}{d}'\n",
    "            if (nrow, ncol) == end:\n",
    "                longest = max(longest, len(npath))\n",
    "                continue\n",
    "            if 0 <= nrow < m and 0 <= ncol < n and ((nrow, ncol), npath) not in visited:\n",
    "                q.append(((nrow, ncol), npath))\n",
    "                visited.add(((nrow, ncol), npath))\n",
    "    return longest\n",
    "        "
   ]
  },
  {
   "cell_type": "code",
   "execution_count": 28,
   "metadata": {},
   "outputs": [
    {
     "data": {
      "text/plain": [
       "'DDRRRD'"
      ]
     },
     "execution_count": 28,
     "metadata": {},
     "output_type": "execute_result"
    }
   ],
   "source": [
    "part1(test_input)"
   ]
  },
  {
   "cell_type": "code",
   "execution_count": 29,
   "metadata": {},
   "outputs": [
    {
     "data": {
      "text/plain": [
       "'DRDRULRDRD'"
      ]
     },
     "execution_count": 29,
     "metadata": {},
     "output_type": "execute_result"
    }
   ],
   "source": [
    "part1(my_input)"
   ]
  },
  {
   "cell_type": "code",
   "execution_count": 33,
   "metadata": {},
   "outputs": [
    {
     "data": {
      "text/plain": [
       "370"
      ]
     },
     "execution_count": 33,
     "metadata": {},
     "output_type": "execute_result"
    }
   ],
   "source": [
    "part2(test_input)"
   ]
  },
  {
   "cell_type": "code",
   "execution_count": 34,
   "metadata": {},
   "outputs": [
    {
     "data": {
      "text/plain": [
       "384"
      ]
     },
     "execution_count": 34,
     "metadata": {},
     "output_type": "execute_result"
    }
   ],
   "source": [
    "part2(my_input)"
   ]
  },
  {
   "cell_type": "code",
   "execution_count": null,
   "metadata": {},
   "outputs": [],
   "source": []
  }
 ],
 "metadata": {
  "kernelspec": {
   "display_name": "Test",
   "language": "python",
   "name": "python3"
  },
  "language_info": {
   "codemirror_mode": {
    "name": "ipython",
    "version": 3
   },
   "file_extension": ".py",
   "mimetype": "text/x-python",
   "name": "python",
   "nbconvert_exporter": "python",
   "pygments_lexer": "ipython3",
   "version": "3.12.2"
  }
 },
 "nbformat": 4,
 "nbformat_minor": 2
}
