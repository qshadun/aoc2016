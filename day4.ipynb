{
 "cells": [
  {
   "cell_type": "code",
   "execution_count": 31,
   "metadata": {},
   "outputs": [],
   "source": [
    "from utils import read_lines\n",
    "from collections import Counter\n",
    "\n",
    "def is_valid(line):\n",
    "    \"\"\"aaaaa-bbb-z-y-x-123[abxyz]\"\"\"\n",
    "    p1, p2 = line.split('[')\n",
    "    checksum = p2[:-1]\n",
    "\n",
    "    parts = p1.split('-')\n",
    "    s = ''.join(parts[:-1])\n",
    "    id = int(parts[-1])\n",
    "    ct = Counter(s)\n",
    "    letters = list(ct)\n",
    "    letters.sort(key=lambda c: (-ct[c], c))\n",
    "    if checksum == ''.join(letters[:5]):\n",
    "        return True, id\n",
    "    else:\n",
    "        return False, id\n",
    "\n",
    "def decrypt(line):\n",
    "    p1= line.split('[')[0]\n",
    "\n",
    "    parts = p1.split('-')\n",
    "    words = parts[:-1]\n",
    "    id = int(parts[-1])\n",
    "    d_words = []\n",
    "    for w in words:\n",
    "        letters = []\n",
    "        for c in w:\n",
    "            c = chr(ord('a') + (ord(c) - ord('a') + id) % 26)\n",
    "            letters.append(c)\n",
    "        d_words.append(''.join(letters))\n",
    "    return ' '.join(d_words), id\n",
    "\n",
    "def part1(input_file):\n",
    "    ans = 0\n",
    "    for line in read_lines(input_file):\n",
    "        valid, id = is_valid(line)\n",
    "        if valid:\n",
    "            ans += id\n",
    "    return ans\n",
    "\n",
    "def part2(input_file):\n",
    "    for line in read_lines(input_file):\n",
    "        decrypted, id = decrypt(line)\n",
    "        # print(decrypted)\n",
    "        if 'northpole' in decrypted:\n",
    "            return id"
   ]
  },
  {
   "cell_type": "code",
   "execution_count": 11,
   "metadata": {},
   "outputs": [
    {
     "data": {
      "text/plain": [
       "361724"
      ]
     },
     "execution_count": 11,
     "metadata": {},
     "output_type": "execute_result"
    }
   ],
   "source": [
    "part1('inputs/day4.txt')"
   ]
  },
  {
   "cell_type": "code",
   "execution_count": 32,
   "metadata": {},
   "outputs": [
    {
     "data": {
      "text/plain": [
       "482"
      ]
     },
     "execution_count": 32,
     "metadata": {},
     "output_type": "execute_result"
    }
   ],
   "source": [
    "part2('inputs/day4.txt')"
   ]
  },
  {
   "cell_type": "code",
   "execution_count": 9,
   "metadata": {},
   "outputs": [],
   "source": [
    "assert is_valid('aaaaa-bbb-z-y-x-123[abxyz]') == (True, 123)\n",
    "assert is_valid('a-b-c-d-e-f-g-h-987[abcde]') == (True, 987)\n",
    "assert is_valid('not-a-real-room-404[oarel]') == (True, 404)\n",
    "assert is_valid('totally-real-room-200[decoy] ') == (False, 200)"
   ]
  },
  {
   "cell_type": "code",
   "execution_count": 17,
   "metadata": {},
   "outputs": [
    {
     "data": {
      "text/plain": [
       "('very encrypted name', 343)"
      ]
     },
     "execution_count": 17,
     "metadata": {},
     "output_type": "execute_result"
    }
   ],
   "source": [
    "decrypt('qzmt-zixmtkozy-ivhz-343')"
   ]
  },
  {
   "cell_type": "code",
   "execution_count": null,
   "metadata": {},
   "outputs": [],
   "source": []
  }
 ],
 "metadata": {
  "kernelspec": {
   "display_name": "Test",
   "language": "python",
   "name": "python3"
  },
  "language_info": {
   "codemirror_mode": {
    "name": "ipython",
    "version": 3
   },
   "file_extension": ".py",
   "mimetype": "text/x-python",
   "name": "python",
   "nbconvert_exporter": "python",
   "pygments_lexer": "ipython3",
   "version": "3.12.2"
  }
 },
 "nbformat": 4,
 "nbformat_minor": 2
}
