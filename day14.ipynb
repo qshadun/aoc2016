{
 "cells": [
  {
   "cell_type": "code",
   "execution_count": 37,
   "metadata": {},
   "outputs": [],
   "source": [
    "import hashlib\n",
    "from collections import deque\n",
    "\n",
    "def md5(s):\n",
    "    return hashlib.md5(s.encode()).digest().hex()\n",
    "\n",
    "def three_in_a_row(s):\n",
    "    for i in range(len(s) - 2):\n",
    "        if s[i] == s[i+1] and s[i] == s[i+2]:\n",
    "            return s[i]\n",
    "    return None\n",
    "\n",
    "test_salt = 'abc'\n",
    "\n",
    "my_salt = 'qzyelonm'\n",
    "\n",
    "\n",
    "def part1(salt):\n",
    "    q = deque()\n",
    "    for i in range(1000):\n",
    "        q.append(md5(f'{salt}{i}'))\n",
    "    i = 1000\n",
    "    cnt = 0\n",
    "    while True:\n",
    "        q.append(md5(f'{salt}{i}'))\n",
    "        h1 = q.popleft()\n",
    "        a = three_in_a_row(h1)\n",
    "        if a:\n",
    "            five_in_a_row = a * 5\n",
    "            if any(five_in_a_row in h for h in q):\n",
    "                cnt += 1\n",
    "                if cnt == 64:\n",
    "                    return i - 1000\n",
    "        i += 1\n",
    "\n",
    "def stretch(s):\n",
    "    h = md5(s)\n",
    "    for _ in range(2016):\n",
    "        h = md5(h)\n",
    "    return h\n",
    "\n",
    "def part2(salt):\n",
    "    q = deque()\n",
    "    for i in range(1000):\n",
    "        q.append(stretch(f'{salt}{i}'))\n",
    "    i = 1000\n",
    "    cnt = 0\n",
    "    while True:\n",
    "        # if i % 100 == 0:\n",
    "        #     print(i, cnt)\n",
    "        q.append(stretch(f'{salt}{i}'))\n",
    "        h1 = q.popleft()\n",
    "        a = three_in_a_row(h1)\n",
    "        if a:\n",
    "            five_in_a_row = a * 5\n",
    "            if any(five_in_a_row in h for h in q):\n",
    "                cnt += 1\n",
    "                if cnt == 64:\n",
    "                    return i - 1000\n",
    "        i += 1"
   ]
  },
  {
   "cell_type": "code",
   "execution_count": 23,
   "metadata": {},
   "outputs": [
    {
     "data": {
      "text/plain": [
       "22728"
      ]
     },
     "execution_count": 23,
     "metadata": {},
     "output_type": "execute_result"
    }
   ],
   "source": [
    "part1(test_salt)"
   ]
  },
  {
   "cell_type": "code",
   "execution_count": 24,
   "metadata": {},
   "outputs": [
    {
     "data": {
      "text/plain": [
       "15168"
      ]
     },
     "execution_count": 24,
     "metadata": {},
     "output_type": "execute_result"
    }
   ],
   "source": [
    "part1(my_salt)"
   ]
  },
  {
   "cell_type": "code",
   "execution_count": null,
   "metadata": {},
   "outputs": [],
   "source": [
    "part2(test_salt)"
   ]
  },
  {
   "cell_type": "code",
   "execution_count": 38,
   "metadata": {},
   "outputs": [
    {
     "data": {
      "text/plain": [
       "20864"
      ]
     },
     "execution_count": 38,
     "metadata": {},
     "output_type": "execute_result"
    }
   ],
   "source": [
    "part2(my_salt)"
   ]
  },
  {
   "cell_type": "code",
   "execution_count": 28,
   "metadata": {},
   "outputs": [],
   "source": [
    "assert stretch('abc0') == 'a107ff634856bb300138cac6568c0f24'"
   ]
  },
  {
   "cell_type": "code",
   "execution_count": 30,
   "metadata": {},
   "outputs": [
    {
     "data": {
      "text/plain": [
       "'eaa5c17bec47565b98275b404eeeeea6'"
      ]
     },
     "execution_count": 30,
     "metadata": {},
     "output_type": "execute_result"
    }
   ],
   "source": [
    "stretch('abc89')"
   ]
  },
  {
   "cell_type": "code",
   "execution_count": null,
   "metadata": {},
   "outputs": [],
   "source": []
  }
 ],
 "metadata": {
  "kernelspec": {
   "display_name": "Test",
   "language": "python",
   "name": "python3"
  },
  "language_info": {
   "codemirror_mode": {
    "name": "ipython",
    "version": 3
   },
   "file_extension": ".py",
   "mimetype": "text/x-python",
   "name": "python",
   "nbconvert_exporter": "python",
   "pygments_lexer": "ipython3",
   "version": "3.12.2"
  }
 },
 "nbformat": 4,
 "nbformat_minor": 2
}
