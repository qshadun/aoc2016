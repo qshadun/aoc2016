{
 "cells": [
  {
   "cell_type": "code",
   "execution_count": null,
   "metadata": {},
   "outputs": [],
   "source": [
    "import hashlib\n",
    "\n",
    "\n",
    "id = 'abc'\n",
    "def part2():\n",
    "    i = 3231929\n",
    "    password = [-1] * 8\n",
    "    done = 0\n",
    "    while done < 8:\n",
    "        s = f'{id}{i}'\n",
    "        h = hashlib.md5(s.encode()).digest().hex()\n",
    "        if h[:5] == '00000':\n",
    "            pos = int(h[5], 16)\n",
    "            if pos < 8 and password[pos] == -1:\n",
    "                print(i, h)\n",
    "                password[pos] = h[6]\n",
    "                done += 1\n",
    "        i += 1\n",
    "    return ''.join(password)\n",
    "part2()"
   ]
  },
  {
   "cell_type": "code",
   "execution_count": 6,
   "metadata": {},
   "outputs": [
    {
     "data": {
      "text/plain": [
       "1"
      ]
     },
     "execution_count": 6,
     "metadata": {},
     "output_type": "execute_result"
    }
   ],
   "source": [
    "int('1', 16)"
   ]
  },
  {
   "cell_type": "code",
   "execution_count": 2,
   "metadata": {},
   "outputs": [
    {
     "data": {
      "text/plain": [
       "3"
      ]
     },
     "execution_count": 2,
     "metadata": {},
     "output_type": "execute_result"
    }
   ],
   "source": [
    "from bisect import bisect_left, bisect_right\n",
    "arr = [1,2,2,3,4]\n",
    "bisect_right(arr, 2)\n"
   ]
  },
  {
   "cell_type": "code",
   "execution_count": 7,
   "metadata": {},
   "outputs": [
    {
     "data": {
      "text/plain": [
       "2"
      ]
     },
     "execution_count": 7,
     "metadata": {},
     "output_type": "execute_result"
    }
   ],
   "source": [
    "import operator\n",
    "gg = operator.itemgetter(1)\n",
    "gg(arr)"
   ]
  },
  {
   "cell_type": "code",
   "execution_count": 5,
   "metadata": {},
   "outputs": [],
   "source": [
    "from collections import deque\n",
    "\n",
    "def part2(n):\n",
    "    q = deque(range(1, n + 1))\n",
    "    while len(q) > 1:\n",
    "        del q[len(q)//2]\n",
    "        h = q.popleft()\n",
    "        q.append(h)\n",
    "    return q[0]\n"
   ]
  },
  {
   "cell_type": "code",
   "execution_count": 6,
   "metadata": {},
   "outputs": [
    {
     "name": "stdout",
     "output_type": "stream",
     "text": [
      "2 1\n",
      "3 3\n",
      "4 1\n",
      "5 2\n",
      "6 3\n",
      "7 5\n",
      "8 7\n",
      "9 9\n",
      "10 1\n",
      "11 2\n",
      "12 3\n",
      "13 4\n",
      "14 5\n",
      "15 6\n",
      "16 7\n",
      "17 8\n",
      "18 9\n",
      "19 11\n",
      "20 13\n",
      "21 15\n",
      "22 17\n",
      "23 19\n",
      "24 21\n",
      "25 23\n",
      "26 25\n",
      "27 27\n",
      "28 1\n",
      "29 2\n",
      "30 3\n",
      "31 4\n",
      "32 5\n",
      "33 6\n",
      "34 7\n",
      "35 8\n",
      "36 9\n",
      "37 10\n",
      "38 11\n",
      "39 12\n",
      "40 13\n",
      "41 14\n",
      "42 15\n",
      "43 16\n",
      "44 17\n",
      "45 18\n",
      "46 19\n",
      "47 20\n",
      "48 21\n",
      "49 22\n",
      "50 23\n",
      "51 24\n",
      "52 25\n",
      "53 26\n",
      "54 27\n",
      "55 29\n",
      "56 31\n",
      "57 33\n",
      "58 35\n",
      "59 37\n",
      "60 39\n",
      "61 41\n",
      "62 43\n",
      "63 45\n",
      "64 47\n",
      "65 49\n",
      "66 51\n",
      "67 53\n",
      "68 55\n",
      "69 57\n",
      "70 59\n",
      "71 61\n",
      "72 63\n",
      "73 65\n",
      "74 67\n",
      "75 69\n",
      "76 71\n",
      "77 73\n",
      "78 75\n",
      "79 77\n",
      "80 79\n",
      "81 81\n",
      "82 1\n",
      "83 2\n",
      "84 3\n",
      "85 4\n",
      "86 5\n",
      "87 6\n",
      "88 7\n",
      "89 8\n",
      "90 9\n",
      "91 10\n",
      "92 11\n",
      "93 12\n",
      "94 13\n",
      "95 14\n",
      "96 15\n",
      "97 16\n",
      "98 17\n",
      "99 18\n",
      "100 19\n"
     ]
    }
   ],
   "source": [
    "for i in range(2, 101):\n",
    "    print(i, part2(i))"
   ]
  },
  {
   "cell_type": "code",
   "execution_count": null,
   "metadata": {},
   "outputs": [],
   "source": []
  }
 ],
 "metadata": {
  "kernelspec": {
   "display_name": "Test",
   "language": "python",
   "name": "python3"
  },
  "language_info": {
   "codemirror_mode": {
    "name": "ipython",
    "version": 3
   },
   "file_extension": ".py",
   "mimetype": "text/x-python",
   "name": "python",
   "nbconvert_exporter": "python",
   "pygments_lexer": "ipython3",
   "version": "3.12.2"
  }
 },
 "nbformat": 4,
 "nbformat_minor": 2
}
