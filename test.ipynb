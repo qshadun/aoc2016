{
 "cells": [
  {
   "cell_type": "code",
   "execution_count": 12,
   "metadata": {},
   "outputs": [
    {
     "name": "stdout",
     "output_type": "stream",
     "text": [
      "3231929 00000155f8105dff7f56ee10fa9b9abd\n",
      "5357525 000004e597bd77c5cd2133e9d885fe7e\n",
      "5708769 0000073848c9ff7a27ca2e942ac10a4c\n",
      "8036669 000003c75169d14fdb31ec1593915cff\n",
      "8605828 0000000ea49fd3fc1b2f10e02d98ee96\n",
      "8609554 000006e42e097c536b8be5179d65f327\n",
      "13666005 0000058939cbc6a1d1ab3bf7d29b0764\n",
      "13753421 000002af5a2d97ef50063c37644d0166\n"
     ]
    },
    {
     "data": {
      "text/plain": [
       "'05ace8e3'"
      ]
     },
     "execution_count": 12,
     "metadata": {},
     "output_type": "execute_result"
    }
   ],
   "source": [
    "import hashlib\n",
    "\n",
    "\n",
    "id = 'abc'\n",
    "def part2():\n",
    "    i = 3231929\n",
    "    password = [-1] * 8\n",
    "    done = 0\n",
    "    while done < 8:\n",
    "        s = f'{id}{i}'\n",
    "        h = hashlib.md5(s.encode()).digest().hex()\n",
    "        if h[:5] == '00000':\n",
    "            pos = int(h[5], 16)\n",
    "            if pos < 8 and password[pos] == -1:\n",
    "                print(i, h)\n",
    "                password[pos] = h[6]\n",
    "                done += 1\n",
    "        i += 1\n",
    "    return ''.join(password)\n",
    "part2()"
   ]
  },
  {
   "cell_type": "code",
   "execution_count": 6,
   "metadata": {},
   "outputs": [
    {
     "data": {
      "text/plain": [
       "1"
      ]
     },
     "execution_count": 6,
     "metadata": {},
     "output_type": "execute_result"
    }
   ],
   "source": [
    "int('1', 16)"
   ]
  },
  {
   "cell_type": "code",
   "execution_count": 9,
   "metadata": {},
   "outputs": [
    {
     "data": {
      "text/plain": [
       "'00000155f8105dff7f56ee10fa9b9abd'"
      ]
     },
     "execution_count": 9,
     "metadata": {},
     "output_type": "execute_result"
    }
   ],
   "source": [
    "hashlib.md5(b'abc3231929').digest().hex()"
   ]
  },
  {
   "cell_type": "code",
   "execution_count": null,
   "metadata": {},
   "outputs": [],
   "source": []
  }
 ],
 "metadata": {
  "kernelspec": {
   "display_name": "Test",
   "language": "python",
   "name": "python3"
  },
  "language_info": {
   "codemirror_mode": {
    "name": "ipython",
    "version": 3
   },
   "file_extension": ".py",
   "mimetype": "text/x-python",
   "name": "python",
   "nbconvert_exporter": "python",
   "pygments_lexer": "ipython3",
   "version": "3.12.2"
  }
 },
 "nbformat": 4,
 "nbformat_minor": 2
}
