{
 "cells": [
  {
   "cell_type": "code",
   "execution_count": 8,
   "metadata": {},
   "outputs": [],
   "source": [
    "from utils import read_lines\n",
    "\n",
    "def part1(input_file):\n",
    "    line = read_lines(input_file)[0]\n",
    "    n = len(line)\n",
    "    ans = 0\n",
    "    i = 0\n",
    "    while i < n:\n",
    "        if line[i] == '(':\n",
    "            j = i + 1\n",
    "            while line[j] != ')':\n",
    "                j += 1\n",
    "            marker = line[i+1:j]\n",
    "            a, b = marker.split('x')\n",
    "            a, b = int(a), int(b)\n",
    "            ans += a * b\n",
    "            i = j + a + 1\n",
    "        else:\n",
    "            ans += 1\n",
    "            i += 1\n",
    "    return ans\n",
    "\n",
    "def decompress(s):\n",
    "    n = len(s)\n",
    "    ans = 0\n",
    "    i = 0\n",
    "    while i < n:\n",
    "        if s[i] == '(':\n",
    "            j = i + 1\n",
    "            while s[j] != ')':\n",
    "                j += 1\n",
    "            marker = s[i+1:j]\n",
    "            a, b = marker.split('x')\n",
    "            a, b = int(a), int(b)\n",
    "            ss = s[j+1:j+a+1]\n",
    "            ans += decompress(ss) * b\n",
    "            i = j + a + 1\n",
    "        else:\n",
    "            ans += 1\n",
    "            i += 1\n",
    "    return ans\n",
    "\n",
    "def part2(input_file):\n",
    "    line = read_lines(input_file)[0]\n",
    "    return decompress(line)"
   ]
  },
  {
   "cell_type": "code",
   "execution_count": 6,
   "metadata": {},
   "outputs": [
    {
     "data": {
      "text/plain": [
       "99145"
      ]
     },
     "execution_count": 6,
     "metadata": {},
     "output_type": "execute_result"
    }
   ],
   "source": [
    "part1('inputs/day9.txt')"
   ]
  },
  {
   "cell_type": "code",
   "execution_count": 10,
   "metadata": {},
   "outputs": [
    {
     "data": {
      "text/plain": [
       "10943094568"
      ]
     },
     "execution_count": 10,
     "metadata": {},
     "output_type": "execute_result"
    }
   ],
   "source": [
    "part2('inputs/day9.txt')"
   ]
  },
  {
   "cell_type": "code",
   "execution_count": 9,
   "metadata": {},
   "outputs": [
    {
     "data": {
      "text/plain": [
       "445"
      ]
     },
     "execution_count": 9,
     "metadata": {},
     "output_type": "execute_result"
    }
   ],
   "source": [
    "decompress('(25x3)(3x3)ABC(2x3)XY(5x2)PQRSTX(18x9)(3x2)TWO(5x7)SEVEN')"
   ]
  },
  {
   "cell_type": "code",
   "execution_count": null,
   "metadata": {},
   "outputs": [],
   "source": []
  }
 ],
 "metadata": {
  "kernelspec": {
   "display_name": "Test",
   "language": "python",
   "name": "python3"
  },
  "language_info": {
   "codemirror_mode": {
    "name": "ipython",
    "version": 3
   },
   "file_extension": ".py",
   "mimetype": "text/x-python",
   "name": "python",
   "nbconvert_exporter": "python",
   "pygments_lexer": "ipython3",
   "version": "3.12.2"
  }
 },
 "nbformat": 4,
 "nbformat_minor": 2
}
