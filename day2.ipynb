{
 "cells": [
  {
   "cell_type": "code",
   "execution_count": 5,
   "metadata": {},
   "outputs": [],
   "source": [
    "from utils import read_lines\n",
    "\n",
    "deltas = {\n",
    "    'U': (-1, 0),\n",
    "    'D': (1, 0),\n",
    "    'L': (0, -1),\n",
    "    'R': (0, 1),\n",
    "}\n",
    "\n",
    "def move(cur_row, cur_col, move):\n",
    "    dr, dc = deltas[move]\n",
    "    cur_row += dr\n",
    "    cur_col += dc\n",
    "    return max(0, min(2, cur_row)), max(0, min(2, cur_col))\n",
    "\n",
    "\n",
    "def part1(input_file):\n",
    "    board = [[1,2,3], [4,5,6], [7,8,9]]\n",
    "    lines = read_lines(input_file)\n",
    "    ans = []\n",
    "    cur_row, cur_col = 1, 1\n",
    "    for line in lines:\n",
    "        for c in line:\n",
    "            cur_row, cur_col = move(cur_row, cur_col, c)\n",
    "        ans.append(board[cur_row][cur_col])\n",
    "    return ''.join(str(i) for i in ans)\n",
    "\n",
    "def move2(board, cur_row, cur_col, mv):\n",
    "    dr, dc = deltas[mv]\n",
    "    n_row, n_col = cur_row + dr, cur_col + dc\n",
    "    if 0 <= n_row < 5 and 0 <= n_col < 5 and board[n_row][n_col]:\n",
    "        return n_row, n_col\n",
    "    else:\n",
    "        return cur_row, cur_col\n",
    "\n",
    "def part2(input_file):\n",
    "    board = [\n",
    "        ['', '', 1, '', ''],\n",
    "        ['', 2, 3, 4, ''],\n",
    "        [5, 6, 7, 8, 9],\n",
    "        ['', 'A', 'B', 'C', ''],\n",
    "        ['', '', 'D', '', ''],\n",
    "    ]\n",
    "    lines = read_lines(input_file)\n",
    "    ans = []\n",
    "    cur_row, cur_col = 2, 0\n",
    "    for line in lines:\n",
    "        for c in line:\n",
    "            cur_row, cur_col = move2(board, cur_row, cur_col, c)\n",
    "        ans.append(board[cur_row][cur_col])\n",
    "    return ''.join(str(i) for i in ans)\n"
   ]
  },
  {
   "cell_type": "code",
   "execution_count": 2,
   "metadata": {},
   "outputs": [
    {
     "data": {
      "text/plain": [
       "'35749'"
      ]
     },
     "execution_count": 2,
     "metadata": {},
     "output_type": "execute_result"
    }
   ],
   "source": [
    "part1('inputs/day2.txt')"
   ]
  },
  {
   "cell_type": "code",
   "execution_count": 6,
   "metadata": {},
   "outputs": [
    {
     "data": {
      "text/plain": [
       "'9365C'"
      ]
     },
     "execution_count": 6,
     "metadata": {},
     "output_type": "execute_result"
    }
   ],
   "source": [
    "part2('inputs/day2.txt')"
   ]
  },
  {
   "cell_type": "code",
   "execution_count": null,
   "metadata": {},
   "outputs": [],
   "source": []
  }
 ],
 "metadata": {
  "kernelspec": {
   "display_name": "Test",
   "language": "python",
   "name": "python3"
  },
  "language_info": {
   "codemirror_mode": {
    "name": "ipython",
    "version": 3
   },
   "file_extension": ".py",
   "mimetype": "text/x-python",
   "name": "python",
   "nbconvert_exporter": "python",
   "pygments_lexer": "ipython3",
   "version": "3.12.2"
  }
 },
 "nbformat": 4,
 "nbformat_minor": 2
}
