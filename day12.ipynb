{
 "cells": [
  {
   "cell_type": "code",
   "execution_count": 21,
   "metadata": {},
   "outputs": [],
   "source": [
    "from utils import read_lines\n",
    "from collections import defaultdict\n",
    "\n",
    "def parse_input(input_file):\n",
    "    return [line.split(' ') for line in read_lines(input_file)]\n",
    "\n",
    "def get_value(registers, a):\n",
    "    try:\n",
    "        return int(a)\n",
    "    except ValueError:\n",
    "        return registers[a]\n",
    "    \n",
    "def execute(program, registers):\n",
    "    \n",
    "    i = 0\n",
    "    while i < len(program):\n",
    "        instruction = program[i]\n",
    "        match instruction[0]:\n",
    "            case 'cpy':\n",
    "                a, b = instruction[1:]\n",
    "                registers[b] = get_value(registers, a)\n",
    "                i += 1\n",
    "            case 'inc':\n",
    "                registers[instruction[1]] += 1\n",
    "                i += 1\n",
    "            case 'dec':\n",
    "                registers[instruction[1]] -= 1\n",
    "                i += 1\n",
    "            case 'jnz':\n",
    "                a, b = instruction[1:]\n",
    "                if get_value(registers, a):\n",
    "                    i += int(b)\n",
    "                else:\n",
    "                    i += 1\n",
    "            case _:\n",
    "                raise ValueError(f'illegal instruction {instruction}')\n",
    "    return registers\n",
    "\n",
    "def part1(input_file):\n",
    "    program = parse_input(input_file)\n",
    "    registers = defaultdict(int)\n",
    "    return execute(program, registers)['a']\n",
    "\n",
    "def part2(input_file):\n",
    "    program = parse_input(input_file)\n",
    "    registers = defaultdict(int)\n",
    "    registers['c'] = 1\n",
    "    return execute(program, registers)['a']\n"
   ]
  },
  {
   "cell_type": "code",
   "execution_count": 20,
   "metadata": {},
   "outputs": [
    {
     "data": {
      "text/plain": [
       "318117"
      ]
     },
     "execution_count": 20,
     "metadata": {},
     "output_type": "execute_result"
    }
   ],
   "source": [
    "part1('inputs/day12.txt')"
   ]
  },
  {
   "cell_type": "code",
   "execution_count": 22,
   "metadata": {},
   "outputs": [
    {
     "data": {
      "text/plain": [
       "9227771"
      ]
     },
     "execution_count": 22,
     "metadata": {},
     "output_type": "execute_result"
    }
   ],
   "source": [
    "part2('inputs/day12.txt')"
   ]
  }
 ],
 "metadata": {
  "kernelspec": {
   "display_name": "Test",
   "language": "python",
   "name": "python3"
  },
  "language_info": {
   "codemirror_mode": {
    "name": "ipython",
    "version": 3
   },
   "file_extension": ".py",
   "mimetype": "text/x-python",
   "name": "python",
   "nbconvert_exporter": "python",
   "pygments_lexer": "ipython3",
   "version": "3.12.2"
  }
 },
 "nbformat": 4,
 "nbformat_minor": 2
}
