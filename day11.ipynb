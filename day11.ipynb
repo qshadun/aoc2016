{
 "cells": [
  {
   "cell_type": "code",
   "execution_count": 39,
   "metadata": {},
   "outputs": [],
   "source": [
    "from collections import deque\n",
    "# (Elevator floor, mask g, mask m)\n",
    "test_input = (0, 1<<2|1<<5, 1<<0|1<<1)\n",
    "test_end = (3, 1<<6|1<<7, 1<<6|1<<7)\n",
    "\n",
    "\"\"\"\n",
    "The first floor contains a promethium generator and a promethium-compatible microchip.\n",
    "The second floor contains a cobalt generator, a curium generator, a ruthenium generator, and a plutonium generator.\n",
    "The third floor contains a cobalt-compatible microchip, a curium-compatible microchip, a ruthenium-compatible microchip, and a plutonium-compatible microchip.\n",
    "The fourth floor contains nothing relevant.\n",
    "\"\"\" \n",
    "my_g = 1\n",
    "my_m = 1\n",
    "# 4 g in the second floor\n",
    "for i in range(1, 5):\n",
    "    my_g |= 1 << (5 + i)\n",
    "# 4 m in the third floor\n",
    "for i in range(1, 5):\n",
    "    my_m |= 1 << (10 + i)\n",
    "\n",
    "my_end_g = 0\n",
    "for i in range(5):\n",
    "    my_end_g |= 1 << (15 + i)\n",
    "my_input = (0, my_g, my_m)\n",
    "my_end = (3, my_end_g, my_end_g)\n",
    "\n",
    "e_moves = [-1, 1]\n",
    "\n",
    "\n",
    "def is_valid(g, m, cnt):\n",
    "    for i in range(4):\n",
    "        if all(g & 1 << (cnt * i + j) == 0 for j in range(cnt)):\n",
    "            continue\n",
    "        \n",
    "        for j in range(cnt):\n",
    "            if m & (1 << (cnt * i + j)) and not g & (1 << (cnt * i + j)):\n",
    "                return False\n",
    "    return True\n",
    "\n",
    "# generators and chips are interchangable, only count matters\n",
    "def to_state(s, cnt):\n",
    "    level, g, m = s\n",
    "    ans = [level]\n",
    "    for i in range(4):\n",
    "        cur_level_g, cur_level_m = 0, 0\n",
    "        for j in range(cnt):\n",
    "            if m & (1 << (cnt * i + j)):\n",
    "                cur_level_m += 1\n",
    "            if g & (1 << (cnt * i + j)):\n",
    "                cur_level_g += 1\n",
    "        ans.append(cur_level_g)\n",
    "        ans.append(cur_level_m)\n",
    "    return tuple(ans)\n",
    "    \n",
    "\n",
    "def moves(s, cnt):\n",
    "    e, g, m = s\n",
    "    ans = []\n",
    "    # move 2 g\n",
    "    for i in range(cnt - 1):\n",
    "        if g & 1 << (cnt * e + i):\n",
    "            for j in range(i+1, cnt):\n",
    "                if g & 1 << (cnt * e + j):\n",
    "                    for de in e_moves:\n",
    "                        ne = e + de\n",
    "                        if ne < 0 or ne > 3:\n",
    "                            continue\n",
    "                        ng = g | 1 << (cnt * ne + i)\n",
    "                        ng |= 1 << (cnt * ne + j)\n",
    "                        ng ^= 1 << (cnt * e + i)\n",
    "                        ng ^= 1 << (cnt * e + j)\n",
    "                        if is_valid(ng, m, cnt):\n",
    "                            ans.append((ne, ng, m))\n",
    "    # move 1 g\n",
    "    for i in range(cnt):\n",
    "        if g & 1 << (cnt * e + i):\n",
    "            for de in e_moves:\n",
    "                ne = e + de\n",
    "                if ne < 0 or ne > 3:\n",
    "                    continue\n",
    "                ng = g | 1 << (cnt * ne + i)\n",
    "                ng ^= 1 << (cnt * e + i)\n",
    "                if is_valid(ng, m, cnt):\n",
    "                    ans.append((ne, ng, m))\n",
    "    # move 2 m\n",
    "    for i in range(cnt - 1):\n",
    "        if m & 1 << (cnt * e + i):\n",
    "            for j in range(i+1, cnt):\n",
    "                if m & 1 << (cnt * e + j):\n",
    "                    for de in e_moves:\n",
    "                        ne = e + de\n",
    "                        if ne < 0 or ne > 3:\n",
    "                            continue\n",
    "                        nm = m | 1 << (cnt * ne + i)\n",
    "                        nm |= 1 << (cnt * ne + j)\n",
    "                        nm ^= 1 << (cnt * e + i)\n",
    "                        nm ^= 1 << (cnt * e + j)\n",
    "                        if is_valid(g, nm, cnt):\n",
    "                            ans.append((ne,g, nm))\n",
    "    # move 1 m\n",
    "    for i in range(cnt):\n",
    "        if m & 1 << (cnt * e + i):\n",
    "            for de in e_moves:\n",
    "                ne = e + de\n",
    "                if ne < 0 or ne > 3:\n",
    "                    continue\n",
    "                nm = m | 1 << (cnt * ne + i)\n",
    "                nm ^= 1 << (cnt * e + i)\n",
    "                if is_valid(g, nm, cnt):\n",
    "                    ans.append((ne, g, nm))\n",
    "\n",
    "    # move 1g 1m\n",
    "    for i in range(cnt):\n",
    "        if g & 1 << (cnt * e + i) and m & 1 << (cnt * e + i):\n",
    "            for de in e_moves:\n",
    "                ne = e + de\n",
    "                if ne < 0 or ne > 3:\n",
    "                    continue\n",
    "                ng = g | 1 << (cnt * ne + i)\n",
    "                ng ^= 1 << (cnt * e + i)\n",
    "                nm = m | 1 << (cnt * ne + i)\n",
    "                nm ^= 1 << (cnt * e + i)\n",
    "                if is_valid(ng, nm, cnt):\n",
    "                    ans.append((ne, ng, nm))\n",
    "    return ans\n",
    "\n",
    "def part1(start, end, cnt):\n",
    "    visited = set([to_state(start, cnt)])\n",
    "    q = deque([start])\n",
    "    steps = 0\n",
    "    while q:\n",
    "        cur_len = len(q)\n",
    "        for _ in range(cur_len):\n",
    "            s = q.popleft()\n",
    "            for ns in moves(s, cnt):\n",
    "                if to_state(ns, cnt) not in visited:\n",
    "                    if ns == end:\n",
    "                        return steps + 1\n",
    "                    visited.add(to_state(ns, cnt))\n",
    "                    q.append(ns)\n",
    "        steps += 1\n",
    "\n",
    "my_g2 = 2**3 - 1\n",
    "my_m2 = 2**3 - 1\n",
    "# 4 g in the second floor\n",
    "for i in range(3, 7):\n",
    "    my_g2 |= 1 << (7 + i)\n",
    "# 4 m in the third floor\n",
    "for i in range(3, 7):\n",
    "    my_m2 |= 1 << (14 + i)\n",
    "\n",
    "my_end_g2 = 0\n",
    "for i in range(7):\n",
    "    my_end_g2 |= 1 << (21 + i)\n",
    "my_input2 = (0, my_g2, my_m2)\n",
    "my_end2 = (3, my_end_g2, my_end_g2)\n"
   ]
  },
  {
   "cell_type": "code",
   "execution_count": 40,
   "metadata": {},
   "outputs": [
    {
     "data": {
      "text/plain": [
       "11"
      ]
     },
     "execution_count": 40,
     "metadata": {},
     "output_type": "execute_result"
    }
   ],
   "source": [
    "part1(test_input, test_end, 2)"
   ]
  },
  {
   "cell_type": "code",
   "execution_count": 41,
   "metadata": {},
   "outputs": [
    {
     "data": {
      "text/plain": [
       "33"
      ]
     },
     "execution_count": 41,
     "metadata": {},
     "output_type": "execute_result"
    }
   ],
   "source": [
    "part1(my_input, my_end, 5)"
   ]
  },
  {
   "cell_type": "code",
   "execution_count": 35,
   "metadata": {},
   "outputs": [
    {
     "data": {
      "text/plain": [
       "57"
      ]
     },
     "execution_count": 35,
     "metadata": {},
     "output_type": "execute_result"
    }
   ],
   "source": [
    "part1(my_input2, my_end2, 7)"
   ]
  },
  {
   "cell_type": "code",
   "execution_count": null,
   "metadata": {},
   "outputs": [],
   "source": []
  }
 ],
 "metadata": {
  "kernelspec": {
   "display_name": "Test",
   "language": "python",
   "name": "python3"
  },
  "language_info": {
   "codemirror_mode": {
    "name": "ipython",
    "version": 3
   },
   "file_extension": ".py",
   "mimetype": "text/x-python",
   "name": "python",
   "nbconvert_exporter": "python",
   "pygments_lexer": "ipython3",
   "version": "3.12.2"
  }
 },
 "nbformat": 4,
 "nbformat_minor": 2
}
