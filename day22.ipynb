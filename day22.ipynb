{
 "cells": [
  {
   "cell_type": "code",
   "execution_count": 9,
   "metadata": {},
   "outputs": [],
   "source": [
    "from utils import read_lines\n",
    "import re\n",
    "from bisect import bisect_left\n",
    "\n",
    "def part1(input_file):\n",
    "    lines = read_lines(input_file)\n",
    "    used = []\n",
    "    avail = []\n",
    "    for line in lines[2:]:\n",
    "        parts = re.split(r'\\s+', line)\n",
    "        u, a = int(parts[2][:-1]), int(parts[3][:-1])\n",
    "        used.append(u)\n",
    "        avail.append(a)\n",
    "    ans = 0\n",
    "    avail.sort()\n",
    "    n = len(used)\n",
    "    for u in used:\n",
    "        ans += n - 1 - bisect_left(avail, u)\n",
    "    return ans\n",
    "\n",
    "def print_matrix(matrix):\n",
    "    for row in matrix:\n",
    "        print(''.join(row))\n",
    "\n",
    "def part2(input_file):\n",
    "    lines = read_lines(input_file)\n",
    "    points = {}\n",
    "    max_x, max_y = 0, 0\n",
    "    for line in lines[2:]:\n",
    "        \"\"\"/dev/grid/node-x0-y0     85T   66T    19T   77%\"\"\"\n",
    "        parts = re.split(r'\\s+', line)\n",
    "        u, a = int(parts[2][:-1]), int(parts[3][:-1])\n",
    "        pp = parts[0].split('-')\n",
    "        x = int(pp[-2][1:])\n",
    "        y = int(pp[-1][1:])\n",
    "        max_x = max(max_x, x)\n",
    "        max_y = max(max_y, y)\n",
    "        points[(x, y)] = (u, a)\n",
    "    m, n = max_y + 1, max_x + 1\n",
    "    matrix = [['.'] * n for _ in range(m)]\n",
    "    empty = None\n",
    "    first_wall = None\n",
    "    for x in range(n):\n",
    "        for y in range(m):\n",
    "            u, a = points[(x, y)]\n",
    "            if u > 100:\n",
    "                matrix[y][x] = '#'\n",
    "                if not first_wall:\n",
    "                    first_wall = (x, y)\n",
    "                \n",
    "            elif u == 0:\n",
    "                matrix[y][x] = '_'\n",
    "                empty = (x, y)\n",
    "    matrix[0][-1] = 'G'\n",
    "    print_matrix(matrix)\n",
    "    print(m, n)\n",
    "    print(empty)\n",
    "    print(first_wall)\n",
    "\n",
    "    move_to_g_left = (empty[0] - first_wall[0] + 1) + (n - 1 - first_wall[0]) + empty[1]\n",
    "    ans = move_to_g_left + 1 + 5 * (n - 2)\n",
    "\n",
    "    print(ans)"
   ]
  },
  {
   "cell_type": "code",
   "execution_count": 7,
   "metadata": {},
   "outputs": [
    {
     "data": {
      "text/plain": [
       "955"
      ]
     },
     "execution_count": 7,
     "metadata": {},
     "output_type": "execute_result"
    }
   ],
   "source": [
    "part1('inputs/day22.txt')"
   ]
  },
  {
   "cell_type": "code",
   "execution_count": 10,
   "metadata": {},
   "outputs": [
    {
     "name": "stdout",
     "output_type": "stream",
     "text": [
      ".....................................G\n",
      "......................................\n",
      "......................................\n",
      "......................................\n",
      "......................................\n",
      "......................................\n",
      "......................................\n",
      "......................................\n",
      "......................................\n",
      "......................................\n",
      "......................................\n",
      "......................................\n",
      "......################################\n",
      "......................................\n",
      "......................................\n",
      "......................................\n",
      "......................................\n",
      "......................................\n",
      "......................................\n",
      "......................................\n",
      "......................................\n",
      "......................................\n",
      "......................................\n",
      "................_.....................\n",
      "......................................\n",
      "......................................\n",
      "26 38\n",
      "(16, 23)\n",
      "(6, 12)\n",
      "246\n"
     ]
    }
   ],
   "source": [
    "part2('inputs/day22.txt')"
   ]
  },
  {
   "cell_type": "code",
   "execution_count": null,
   "metadata": {},
   "outputs": [],
   "source": []
  }
 ],
 "metadata": {
  "kernelspec": {
   "display_name": "Test",
   "language": "python",
   "name": "python3"
  },
  "language_info": {
   "codemirror_mode": {
    "name": "ipython",
    "version": 3
   },
   "file_extension": ".py",
   "mimetype": "text/x-python",
   "name": "python",
   "nbconvert_exporter": "python",
   "pygments_lexer": "ipython3",
   "version": "3.12.2"
  }
 },
 "nbformat": 4,
 "nbformat_minor": 2
}
