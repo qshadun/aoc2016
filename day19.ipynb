{
 "cells": [
  {
   "cell_type": "code",
   "execution_count": 15,
   "metadata": {},
   "outputs": [],
   "source": [
    "from collections import deque\n",
    "my_input = 3017957\n",
    "def part1():\n",
    "    ls = list(range(1, my_input + 1))\n",
    "    while len(ls) > 1:\n",
    "        new_ls = []\n",
    "        if len(ls) % 2 == 0:\n",
    "            new_ls.append(ls[0])\n",
    "        for i in range(2, len(ls), 2):\n",
    "            new_ls.append(ls[i])\n",
    "        ls = new_ls\n",
    "    return ls[0]\n",
    "\n",
    "def part2(n):\n",
    "    left = deque(range(1, n // 2 + 1))\n",
    "    right = deque(range(n//2+1, n+1))\n",
    "    right.reverse()\n",
    "    while left and right:\n",
    "        if len(left) > len(right):\n",
    "            left.pop()\n",
    "        else:\n",
    "            right.pop()\n",
    "        right.appendleft(left.popleft())\n",
    "        left.append(right.pop())\n",
    "    return left[0]\n"
   ]
  },
  {
   "cell_type": "code",
   "execution_count": 2,
   "metadata": {},
   "outputs": [
    {
     "data": {
      "text/plain": [
       "1841611"
      ]
     },
     "execution_count": 2,
     "metadata": {},
     "output_type": "execute_result"
    }
   ],
   "source": [
    "part1()"
   ]
  },
  {
   "cell_type": "code",
   "execution_count": 17,
   "metadata": {},
   "outputs": [
    {
     "data": {
      "text/plain": [
       "1423634"
      ]
     },
     "execution_count": 17,
     "metadata": {},
     "output_type": "execute_result"
    }
   ],
   "source": [
    "part2(my_input)"
   ]
  },
  {
   "cell_type": "code",
   "execution_count": null,
   "metadata": {},
   "outputs": [],
   "source": []
  }
 ],
 "metadata": {
  "kernelspec": {
   "display_name": "Test",
   "language": "python",
   "name": "python3"
  },
  "language_info": {
   "codemirror_mode": {
    "name": "ipython",
    "version": 3
   },
   "file_extension": ".py",
   "mimetype": "text/x-python",
   "name": "python",
   "nbconvert_exporter": "python",
   "pygments_lexer": "ipython3",
   "version": "3.12.2"
  }
 },
 "nbformat": 4,
 "nbformat_minor": 2
}
