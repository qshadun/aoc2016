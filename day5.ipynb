{
 "cells": [
  {
   "cell_type": "code",
   "execution_count": 14,
   "metadata": {},
   "outputs": [
    {
     "data": {
      "text/plain": [
       "'4543c154'"
      ]
     },
     "execution_count": 14,
     "metadata": {},
     "output_type": "execute_result"
    }
   ],
   "source": [
    "import hashlib\n",
    "\n",
    "\n",
    "id = 'ojvtpuvg'\n",
    "\n",
    "def part1():\n",
    "    i = 0\n",
    "    password = []\n",
    "    while len(password) < 8:\n",
    "        s = f'{id}{i}'\n",
    "        h = hashlib.md5(s.encode()).digest().hex()\n",
    "        if h[:5] == '00000':\n",
    "            password.append(h[5])\n",
    "        i += 1\n",
    "    return ''.join(password)\n",
    "part1()"
   ]
  },
  {
   "cell_type": "code",
   "execution_count": 18,
   "metadata": {},
   "outputs": [
    {
     "data": {
      "text/plain": [
       "'1050cbbd'"
      ]
     },
     "execution_count": 18,
     "metadata": {},
     "output_type": "execute_result"
    }
   ],
   "source": [
    "def part2():\n",
    "    i = 0\n",
    "    password = [-1] * 8\n",
    "    done = 0\n",
    "    while done < 8:\n",
    "        s = f'{id}{i}'\n",
    "        h = hashlib.md5(s.encode()).digest().hex()\n",
    "        if h[:5] == '00000':\n",
    "            pos = int(h[5], 16)\n",
    "            if pos < 8 and password[pos] == -1:\n",
    "                password[pos] = h[6]\n",
    "                done += 1\n",
    "        i += 1\n",
    "    return ''.join(password)\n",
    "part2()"
   ]
  },
  {
   "cell_type": "code",
   "execution_count": 10,
   "metadata": {},
   "outputs": [
    {
     "data": {
      "text/plain": [
       "b'aaa'"
      ]
     },
     "execution_count": 10,
     "metadata": {},
     "output_type": "execute_result"
    }
   ],
   "source": [
    "'aaa'.encode()"
   ]
  },
  {
   "cell_type": "code",
   "execution_count": null,
   "metadata": {},
   "outputs": [],
   "source": []
  }
 ],
 "metadata": {
  "kernelspec": {
   "display_name": "Test",
   "language": "python",
   "name": "python3"
  },
  "language_info": {
   "codemirror_mode": {
    "name": "ipython",
    "version": 3
   },
   "file_extension": ".py",
   "mimetype": "text/x-python",
   "name": "python",
   "nbconvert_exporter": "python",
   "pygments_lexer": "ipython3",
   "version": "3.12.2"
  }
 },
 "nbformat": 4,
 "nbformat_minor": 2
}
