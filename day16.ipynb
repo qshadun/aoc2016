{
 "cells": [
  {
   "cell_type": "code",
   "execution_count": 9,
   "metadata": {},
   "outputs": [],
   "source": [
    "def dragon(s, disk_len):\n",
    "    while len(s) <disk_len:\n",
    "        rev = s[::-1]\n",
    "        rev = ''.join(['1' if c == '0' else '0' for c in rev ])\n",
    "        s = s + '0' + rev\n",
    "    return s[:disk_len]\n",
    "\n",
    "def check_sum(s):\n",
    "    while len(s) % 2 == 0:\n",
    "        a = []\n",
    "        for i in range(0, len(s), 2):\n",
    "            if s[i] == s[i + 1]:\n",
    "                a.append('1')\n",
    "            else:\n",
    "                a.append('0')\n",
    "        s = ''.join(a)\n",
    "    return s\n",
    "\n",
    "my_input = '01110110101001000'\n",
    "my_disk_len = 272\n",
    "my_disk_len2 = 35651584\n",
    "def part1(input, disk_len):\n",
    "    return check_sum(dragon(input, disk_len))\n"
   ]
  },
  {
   "cell_type": "code",
   "execution_count": 8,
   "metadata": {},
   "outputs": [
    {
     "data": {
      "text/plain": [
       "'11100111011101111'"
      ]
     },
     "execution_count": 8,
     "metadata": {},
     "output_type": "execute_result"
    }
   ],
   "source": [
    "part1(my_input, my_disk_len)"
   ]
  },
  {
   "cell_type": "code",
   "execution_count": 10,
   "metadata": {},
   "outputs": [
    {
     "data": {
      "text/plain": [
       "'10001110010000110'"
      ]
     },
     "execution_count": 10,
     "metadata": {},
     "output_type": "execute_result"
    }
   ],
   "source": [
    "part1(my_input, my_disk_len2)"
   ]
  },
  {
   "cell_type": "code",
   "execution_count": 6,
   "metadata": {},
   "outputs": [
    {
     "data": {
      "text/plain": [
       "'01100'"
      ]
     },
     "execution_count": 6,
     "metadata": {},
     "output_type": "execute_result"
    }
   ],
   "source": [
    "check_sum(dragon('10000', 20))"
   ]
  },
  {
   "cell_type": "code",
   "execution_count": null,
   "metadata": {},
   "outputs": [],
   "source": []
  }
 ],
 "metadata": {
  "kernelspec": {
   "display_name": "Test",
   "language": "python",
   "name": "python3"
  },
  "language_info": {
   "codemirror_mode": {
    "name": "ipython",
    "version": 3
   },
   "file_extension": ".py",
   "mimetype": "text/x-python",
   "name": "python",
   "nbconvert_exporter": "python",
   "pygments_lexer": "ipython3",
   "version": "3.12.2"
  }
 },
 "nbformat": 4,
 "nbformat_minor": 2
}
