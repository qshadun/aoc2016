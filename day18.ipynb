{
 "cells": [
  {
   "cell_type": "code",
   "execution_count": 14,
   "metadata": {},
   "outputs": [],
   "source": [
    "from utils import read_lines\n",
    "from collections import Counter\n",
    "\n",
    "def part1(input_file, row_count):\n",
    "    row = read_lines(input_file)[0]\n",
    "    n = len(row)\n",
    "    ans = Counter(row)['.']\n",
    "    # print(row)\n",
    "    for _ in range(row_count-1):\n",
    "        next_row = []\n",
    "        for i in range(n):\n",
    "            if i-1 >= 0 and row[i-1] == '^':\n",
    "                if not (i+1 < n and row[i+1] == '^'):\n",
    "                    next_row.append('^')\n",
    "                else:\n",
    "                    next_row.append('.')\n",
    "                    ans += 1\n",
    "            else:\n",
    "                if i+1 < n and row[i+1] == '^':\n",
    "                    next_row.append('^')\n",
    "                else:\n",
    "                    next_row.append('.')\n",
    "                    ans += 1\n",
    "        row = next_row\n",
    "        # print(''.join(row))\n",
    "    return ans\n"
   ]
  },
  {
   "cell_type": "code",
   "execution_count": 12,
   "metadata": {},
   "outputs": [
    {
     "name": "stdout",
     "output_type": "stream",
     "text": [
      ".^^.^.^^^^\n",
      "^^^...^..^\n",
      "^.^^.^.^^.\n",
      "..^^...^^^\n",
      ".^^^^.^^.^\n",
      "^^..^.^^..\n",
      "^^^^..^^^.\n",
      "^..^^^^.^^\n",
      ".^^^..^.^^\n",
      "^^.^^^..^^\n"
     ]
    },
    {
     "data": {
      "text/plain": [
       "38"
      ]
     },
     "execution_count": 12,
     "metadata": {},
     "output_type": "execute_result"
    }
   ],
   "source": [
    "part1('inputs/day18_test.txt', 10)"
   ]
  },
  {
   "cell_type": "code",
   "execution_count": 15,
   "metadata": {},
   "outputs": [
    {
     "data": {
      "text/plain": [
       "1956"
      ]
     },
     "execution_count": 15,
     "metadata": {},
     "output_type": "execute_result"
    }
   ],
   "source": [
    "part1('inputs/day18.txt', 40)"
   ]
  },
  {
   "cell_type": "code",
   "execution_count": 16,
   "metadata": {},
   "outputs": [
    {
     "data": {
      "text/plain": [
       "19995121"
      ]
     },
     "execution_count": 16,
     "metadata": {},
     "output_type": "execute_result"
    }
   ],
   "source": [
    "part1('inputs/day18.txt', 400_000)"
   ]
  },
  {
   "cell_type": "code",
   "execution_count": null,
   "metadata": {},
   "outputs": [],
   "source": []
  }
 ],
 "metadata": {
  "kernelspec": {
   "display_name": "Test",
   "language": "python",
   "name": "python3"
  },
  "language_info": {
   "codemirror_mode": {
    "name": "ipython",
    "version": 3
   },
   "file_extension": ".py",
   "mimetype": "text/x-python",
   "name": "python",
   "nbconvert_exporter": "python",
   "pygments_lexer": "ipython3",
   "version": "3.12.2"
  }
 },
 "nbformat": 4,
 "nbformat_minor": 2
}
